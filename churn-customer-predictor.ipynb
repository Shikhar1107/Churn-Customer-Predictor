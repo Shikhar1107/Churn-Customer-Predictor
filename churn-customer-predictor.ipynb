{
 "cells": [
  {
   "cell_type": "markdown",
   "id": "b376fdfa",
   "metadata": {
    "papermill": {
     "duration": 0.04779,
     "end_time": "2022-02-19T10:33:35.778901",
     "exception": false,
     "start_time": "2022-02-19T10:33:35.731111",
     "status": "completed"
    },
    "tags": []
   },
   "source": [
    "**Churn Customer Predictor**\n",
    "\n",
    "*Customer churn prediction is to measure why customers are leaving a business. In this tutorial we will be looking at customer churn in telecom business. We will build a deep learning model to predict the churn and use precision,recall, f1-score to measure performance of our model.*\n",
    "\n",
    "The dataset has 14 features and 10000 rows."
   ]
  },
  {
   "cell_type": "code",
   "execution_count": 1,
   "id": "bd0d9288",
   "metadata": {
    "_cell_guid": "b1076dfc-b9ad-4769-8c92-a6c4dae69d19",
    "_kg_hide-input": true,
    "_uuid": "8f2839f25d086af736a60e9eeb907d3b93b6e0e5",
    "execution": {
     "iopub.execute_input": "2022-02-19T10:33:35.881025Z",
     "iopub.status.busy": "2022-02-19T10:33:35.879672Z",
     "iopub.status.idle": "2022-02-19T10:33:35.901792Z",
     "shell.execute_reply": "2022-02-19T10:33:35.902751Z",
     "shell.execute_reply.started": "2022-02-19T10:22:48.713144Z"
    },
    "papermill": {
     "duration": 0.075486,
     "end_time": "2022-02-19T10:33:35.903220",
     "exception": false,
     "start_time": "2022-02-19T10:33:35.827734",
     "status": "completed"
    },
    "tags": []
   },
   "outputs": [
    {
     "name": "stdout",
     "output_type": "stream",
     "text": [
      "/kaggle/input/bank-customer-churn-modeling/Churn_Modelling.csv\n"
     ]
    }
   ],
   "source": [
    "# This Python 3 environment comes with many helpful analytics libraries installed\n",
    "# It is defined by the kaggle/python Docker image: https://github.com/kaggle/docker-python\n",
    "# For example, here's several helpful packages to load\n",
    "\n",
    "import numpy as np # linear algebra\n",
    "import pandas as pd # data processing, CSV file I/O (e.g. pd.read_csv)\n",
    "\n",
    "# Input data files are available in the read-only \"../input/\" directory\n",
    "# For example, running this (by clicking run or pressing Shift+Enter) will list all files under the input directory\n",
    "\n",
    "import os\n",
    "for dirname, _, filenames in os.walk('/kaggle/input'):\n",
    "    for filename in filenames:\n",
    "        print(os.path.join(dirname, filename))\n",
    "\n",
    "# You can write up to 20GB to the current directory (/kaggle/working/) that gets preserved as output when you create a version using \"Save & Run All\" \n",
    "# You can also write temporary files to /kaggle/temp/, but they won't be saved outside of the current session"
   ]
  },
  {
   "cell_type": "code",
   "execution_count": 2,
   "id": "533cfcb0",
   "metadata": {
    "execution": {
     "iopub.execute_input": "2022-02-19T10:33:36.011275Z",
     "iopub.status.busy": "2022-02-19T10:33:36.010524Z",
     "iopub.status.idle": "2022-02-19T10:33:42.866622Z",
     "shell.execute_reply": "2022-02-19T10:33:42.865877Z",
     "shell.execute_reply.started": "2022-02-19T10:22:48.740016Z"
    },
    "papermill": {
     "duration": 6.911402,
     "end_time": "2022-02-19T10:33:42.866782",
     "exception": false,
     "start_time": "2022-02-19T10:33:35.955380",
     "status": "completed"
    },
    "tags": []
   },
   "outputs": [],
   "source": [
    "# Importing more important libraries\n",
    "import tensorflow as tf\n",
    "from tensorflow import keras\n",
    "import seaborn as sns\n",
    "import matplotlib.pyplot as plt\n",
    "import warnings\n",
    "warnings.filterwarnings('ignore')"
   ]
  },
  {
   "cell_type": "markdown",
   "id": "4bb2a810",
   "metadata": {
    "papermill": {
     "duration": 0.049631,
     "end_time": "2022-02-19T10:33:42.963997",
     "exception": false,
     "start_time": "2022-02-19T10:33:42.914366",
     "status": "completed"
    },
    "tags": []
   },
   "source": [
    "# Loading Dataset"
   ]
  },
  {
   "cell_type": "code",
   "execution_count": 3,
   "id": "d709b6fc",
   "metadata": {
    "execution": {
     "iopub.execute_input": "2022-02-19T10:33:43.069230Z",
     "iopub.status.busy": "2022-02-19T10:33:43.068089Z",
     "iopub.status.idle": "2022-02-19T10:33:43.150609Z",
     "shell.execute_reply": "2022-02-19T10:33:43.149938Z",
     "shell.execute_reply.started": "2022-02-19T10:22:50.924177Z"
    },
    "papermill": {
     "duration": 0.138698,
     "end_time": "2022-02-19T10:33:43.150769",
     "exception": false,
     "start_time": "2022-02-19T10:33:43.012071",
     "status": "completed"
    },
    "tags": []
   },
   "outputs": [
    {
     "data": {
      "text/html": [
       "<div>\n",
       "<style scoped>\n",
       "    .dataframe tbody tr th:only-of-type {\n",
       "        vertical-align: middle;\n",
       "    }\n",
       "\n",
       "    .dataframe tbody tr th {\n",
       "        vertical-align: top;\n",
       "    }\n",
       "\n",
       "    .dataframe thead th {\n",
       "        text-align: right;\n",
       "    }\n",
       "</style>\n",
       "<table border=\"1\" class=\"dataframe\">\n",
       "  <thead>\n",
       "    <tr style=\"text-align: right;\">\n",
       "      <th></th>\n",
       "      <th>RowNumber</th>\n",
       "      <th>CustomerId</th>\n",
       "      <th>Surname</th>\n",
       "      <th>CreditScore</th>\n",
       "      <th>Geography</th>\n",
       "      <th>Gender</th>\n",
       "      <th>Age</th>\n",
       "      <th>Tenure</th>\n",
       "      <th>Balance</th>\n",
       "      <th>NumOfProducts</th>\n",
       "      <th>HasCrCard</th>\n",
       "      <th>IsActiveMember</th>\n",
       "      <th>EstimatedSalary</th>\n",
       "      <th>Exited</th>\n",
       "    </tr>\n",
       "  </thead>\n",
       "  <tbody>\n",
       "    <tr>\n",
       "      <th>0</th>\n",
       "      <td>1</td>\n",
       "      <td>15634602</td>\n",
       "      <td>Hargrave</td>\n",
       "      <td>619</td>\n",
       "      <td>France</td>\n",
       "      <td>Female</td>\n",
       "      <td>42</td>\n",
       "      <td>2</td>\n",
       "      <td>0.00</td>\n",
       "      <td>1</td>\n",
       "      <td>1</td>\n",
       "      <td>1</td>\n",
       "      <td>101348.88</td>\n",
       "      <td>1</td>\n",
       "    </tr>\n",
       "    <tr>\n",
       "      <th>1</th>\n",
       "      <td>2</td>\n",
       "      <td>15647311</td>\n",
       "      <td>Hill</td>\n",
       "      <td>608</td>\n",
       "      <td>Spain</td>\n",
       "      <td>Female</td>\n",
       "      <td>41</td>\n",
       "      <td>1</td>\n",
       "      <td>83807.86</td>\n",
       "      <td>1</td>\n",
       "      <td>0</td>\n",
       "      <td>1</td>\n",
       "      <td>112542.58</td>\n",
       "      <td>0</td>\n",
       "    </tr>\n",
       "    <tr>\n",
       "      <th>2</th>\n",
       "      <td>3</td>\n",
       "      <td>15619304</td>\n",
       "      <td>Onio</td>\n",
       "      <td>502</td>\n",
       "      <td>France</td>\n",
       "      <td>Female</td>\n",
       "      <td>42</td>\n",
       "      <td>8</td>\n",
       "      <td>159660.80</td>\n",
       "      <td>3</td>\n",
       "      <td>1</td>\n",
       "      <td>0</td>\n",
       "      <td>113931.57</td>\n",
       "      <td>1</td>\n",
       "    </tr>\n",
       "    <tr>\n",
       "      <th>3</th>\n",
       "      <td>4</td>\n",
       "      <td>15701354</td>\n",
       "      <td>Boni</td>\n",
       "      <td>699</td>\n",
       "      <td>France</td>\n",
       "      <td>Female</td>\n",
       "      <td>39</td>\n",
       "      <td>1</td>\n",
       "      <td>0.00</td>\n",
       "      <td>2</td>\n",
       "      <td>0</td>\n",
       "      <td>0</td>\n",
       "      <td>93826.63</td>\n",
       "      <td>0</td>\n",
       "    </tr>\n",
       "    <tr>\n",
       "      <th>4</th>\n",
       "      <td>5</td>\n",
       "      <td>15737888</td>\n",
       "      <td>Mitchell</td>\n",
       "      <td>850</td>\n",
       "      <td>Spain</td>\n",
       "      <td>Female</td>\n",
       "      <td>43</td>\n",
       "      <td>2</td>\n",
       "      <td>125510.82</td>\n",
       "      <td>1</td>\n",
       "      <td>1</td>\n",
       "      <td>1</td>\n",
       "      <td>79084.10</td>\n",
       "      <td>0</td>\n",
       "    </tr>\n",
       "  </tbody>\n",
       "</table>\n",
       "</div>"
      ],
      "text/plain": [
       "   RowNumber  CustomerId   Surname  CreditScore Geography  Gender  Age  \\\n",
       "0          1    15634602  Hargrave          619    France  Female   42   \n",
       "1          2    15647311      Hill          608     Spain  Female   41   \n",
       "2          3    15619304      Onio          502    France  Female   42   \n",
       "3          4    15701354      Boni          699    France  Female   39   \n",
       "4          5    15737888  Mitchell          850     Spain  Female   43   \n",
       "\n",
       "   Tenure    Balance  NumOfProducts  HasCrCard  IsActiveMember  \\\n",
       "0       2       0.00              1          1               1   \n",
       "1       1   83807.86              1          0               1   \n",
       "2       8  159660.80              3          1               0   \n",
       "3       1       0.00              2          0               0   \n",
       "4       2  125510.82              1          1               1   \n",
       "\n",
       "   EstimatedSalary  Exited  \n",
       "0        101348.88       1  \n",
       "1        112542.58       0  \n",
       "2        113931.57       1  \n",
       "3         93826.63       0  \n",
       "4         79084.10       0  "
      ]
     },
     "execution_count": 3,
     "metadata": {},
     "output_type": "execute_result"
    }
   ],
   "source": [
    "df = pd.read_csv('../input/bank-customer-churn-modeling/Churn_Modelling.csv')\n",
    "df.head()"
   ]
  },
  {
   "cell_type": "code",
   "execution_count": 4,
   "id": "414b37bf",
   "metadata": {
    "execution": {
     "iopub.execute_input": "2022-02-19T10:33:43.256766Z",
     "iopub.status.busy": "2022-02-19T10:33:43.255782Z",
     "iopub.status.idle": "2022-02-19T10:33:43.259504Z",
     "shell.execute_reply": "2022-02-19T10:33:43.259987Z",
     "shell.execute_reply.started": "2022-02-19T10:22:50.972632Z"
    },
    "papermill": {
     "duration": 0.059753,
     "end_time": "2022-02-19T10:33:43.260225",
     "exception": false,
     "start_time": "2022-02-19T10:33:43.200472",
     "status": "completed"
    },
    "tags": []
   },
   "outputs": [
    {
     "data": {
      "text/plain": [
       "(10000, 14)"
      ]
     },
     "execution_count": 4,
     "metadata": {},
     "output_type": "execute_result"
    }
   ],
   "source": [
    "df.shape"
   ]
  },
  {
   "cell_type": "code",
   "execution_count": 5,
   "id": "451734e6",
   "metadata": {
    "execution": {
     "iopub.execute_input": "2022-02-19T10:33:43.361383Z",
     "iopub.status.busy": "2022-02-19T10:33:43.360325Z",
     "iopub.status.idle": "2022-02-19T10:33:43.391385Z",
     "shell.execute_reply": "2022-02-19T10:33:43.392240Z",
     "shell.execute_reply.started": "2022-02-19T10:22:50.983254Z"
    },
    "papermill": {
     "duration": 0.083416,
     "end_time": "2022-02-19T10:33:43.392540",
     "exception": false,
     "start_time": "2022-02-19T10:33:43.309124",
     "status": "completed"
    },
    "tags": []
   },
   "outputs": [
    {
     "name": "stdout",
     "output_type": "stream",
     "text": [
      "RowNumber : [    1     2     3 ...  9998  9999 10000]\n",
      "CustomerId : [15634602 15647311 15619304 ... 15584532 15682355 15628319]\n",
      "Surname : ['Hargrave' 'Hill' 'Onio' ... 'Kashiwagi' 'Aldridge' 'Burbidge']\n",
      "CreditScore : [619 608 502 699 850 645 822 376 501 684 528 497 476 549 635 616 653 587\n",
      " 726 732 636 510 669 846 577 756 571 574 411 591 533 553 520 722 475 490\n",
      " 804 582 472 465 556 834 660 776 829 637 550 698 585 788 655 601 656 725\n",
      " 511 614 742 687 555 603 751 581 735 661 675 738 813 657 604 519 664 678\n",
      " 757 416 665 777 543 506 493 652 750 729 646 647 808 524 769 730 515 773\n",
      " 814 710 413 623 670 622 785 605 479 685 538 562 721 628 668 828 674 625\n",
      " 432 770 758 795 686 789 589 461 584 579 663 682 793 691 485 650 754 535\n",
      " 716 539 706 586 631 717 800 683 704 615 667 484 480 578 512 606 597 778\n",
      " 514 525 715 580 807 521 759 516 711 618 643 671 689 620 676 572 695 592\n",
      " 567 694 547 594 673 610 767 763 712 703 662 659 523 772 545 634 739 771\n",
      " 681 544 696 766 727 693 557 531 498 651 791 733 811 707 714 782 775 799\n",
      " 602 744 588 747 583 627 731 629 438 642 806 474 559 429 680 749 734 644\n",
      " 626 649 805 718 840 630 654 762 568 613 522 737 648 443 640 540 460 593\n",
      " 801 611 802 745 483 690 492 709 705 560 752 701 537 487 596 702 486 724\n",
      " 548 464 790 534 748 494 590 468 509 818 816 536 753 774 621 569 658 798\n",
      " 641 542 692 639 765 570 638 599 632 779 527 564 833 504 842 508 417 598\n",
      " 741 607 761 848 546 439 755 760 526 713 700 666 566 495 688 612 477 427\n",
      " 839 819 720 459 503 624 529 563 482 796 445 746 786 554 672 787 499 844\n",
      " 450 815 838 803 736 633 600 679 517 792 743 488 421 841 708 507 505 456\n",
      " 435 561 518 565 728 784 552 609 764 697 723 551 444 719 496 541 830 812\n",
      " 677 420 595 617 809 500 826 434 513 478 797 363 399 463 780 452 575 837\n",
      " 794 824 428 823 781 849 489 431 457 768 831 359 820 573 576 558 817 449\n",
      " 440 415 821 530 350 446 425 740 481 783 358 845 451 458 469 423 404 836\n",
      " 473 835 466 491 351 827 843 365 532 414 453 471 401 810 832 470 447 422\n",
      " 825 430 436 426 408 847 418 437 410 454 407 455 462 386 405 383 395 467\n",
      " 433 442 424 448 441 367 412 382 373 419]\n",
      "Geography : ['France' 'Spain' 'Germany']\n",
      "Gender : ['Female' 'Male']\n",
      "Age : [42 41 39 43 44 50 29 27 31 24 34 25 35 45 58 32 38 46 36 33 40 51 61 49\n",
      " 37 19 66 56 26 21 55 75 22 30 28 65 48 52 57 73 47 54 72 20 67 79 62 53\n",
      " 80 59 68 23 60 70 63 64 18 82 69 74 71 76 77 88 85 84 78 81 92 83]\n",
      "Tenure : [ 2  1  8  7  4  6  3 10  5  9  0]\n",
      "Balance : [     0.    83807.86 159660.8  ...  57369.61  75075.31 130142.79]\n",
      "NumOfProducts : [1 3 2 4]\n",
      "HasCrCard : [1 0]\n",
      "IsActiveMember : [1 0]\n",
      "EstimatedSalary : [101348.88 112542.58 113931.57 ...  42085.58  92888.52  38190.78]\n",
      "Exited : [1 0]\n"
     ]
    }
   ],
   "source": [
    "for col in df.columns:\n",
    "    print(col,':',df[col].unique())"
   ]
  },
  {
   "cell_type": "code",
   "execution_count": 6,
   "id": "b18c5ba1",
   "metadata": {
    "execution": {
     "iopub.execute_input": "2022-02-19T10:33:43.521490Z",
     "iopub.status.busy": "2022-02-19T10:33:43.495299Z",
     "iopub.status.idle": "2022-02-19T10:33:43.524335Z",
     "shell.execute_reply": "2022-02-19T10:33:43.525136Z",
     "shell.execute_reply.started": "2022-02-19T10:22:51.009222Z"
    },
    "papermill": {
     "duration": 0.082006,
     "end_time": "2022-02-19T10:33:43.525457",
     "exception": false,
     "start_time": "2022-02-19T10:33:43.443451",
     "status": "completed"
    },
    "tags": []
   },
   "outputs": [
    {
     "name": "stdout",
     "output_type": "stream",
     "text": [
      "<class 'pandas.core.frame.DataFrame'>\n",
      "RangeIndex: 10000 entries, 0 to 9999\n",
      "Data columns (total 14 columns):\n",
      " #   Column           Non-Null Count  Dtype  \n",
      "---  ------           --------------  -----  \n",
      " 0   RowNumber        10000 non-null  int64  \n",
      " 1   CustomerId       10000 non-null  int64  \n",
      " 2   Surname          10000 non-null  object \n",
      " 3   CreditScore      10000 non-null  int64  \n",
      " 4   Geography        10000 non-null  object \n",
      " 5   Gender           10000 non-null  object \n",
      " 6   Age              10000 non-null  int64  \n",
      " 7   Tenure           10000 non-null  int64  \n",
      " 8   Balance          10000 non-null  float64\n",
      " 9   NumOfProducts    10000 non-null  int64  \n",
      " 10  HasCrCard        10000 non-null  int64  \n",
      " 11  IsActiveMember   10000 non-null  int64  \n",
      " 12  EstimatedSalary  10000 non-null  float64\n",
      " 13  Exited           10000 non-null  int64  \n",
      "dtypes: float64(2), int64(9), object(3)\n",
      "memory usage: 1.1+ MB\n"
     ]
    }
   ],
   "source": [
    "df.info()"
   ]
  },
  {
   "cell_type": "code",
   "execution_count": 7,
   "id": "6946aa6c",
   "metadata": {
    "execution": {
     "iopub.execute_input": "2022-02-19T10:33:43.631122Z",
     "iopub.status.busy": "2022-02-19T10:33:43.630413Z",
     "iopub.status.idle": "2022-02-19T10:33:43.644743Z",
     "shell.execute_reply": "2022-02-19T10:33:43.644036Z",
     "shell.execute_reply.started": "2022-02-19T10:22:51.029970Z"
    },
    "papermill": {
     "duration": 0.068508,
     "end_time": "2022-02-19T10:33:43.644903",
     "exception": false,
     "start_time": "2022-02-19T10:33:43.576395",
     "status": "completed"
    },
    "tags": []
   },
   "outputs": [
    {
     "data": {
      "text/plain": [
       "RowNumber          0\n",
       "CustomerId         0\n",
       "Surname            0\n",
       "CreditScore        0\n",
       "Geography          0\n",
       "Gender             0\n",
       "Age                0\n",
       "Tenure             0\n",
       "Balance            0\n",
       "NumOfProducts      0\n",
       "HasCrCard          0\n",
       "IsActiveMember     0\n",
       "EstimatedSalary    0\n",
       "Exited             0\n",
       "dtype: int64"
      ]
     },
     "execution_count": 7,
     "metadata": {},
     "output_type": "execute_result"
    }
   ],
   "source": [
    "# Checking null values\n",
    "\n",
    "df.isnull().sum()"
   ]
  },
  {
   "cell_type": "markdown",
   "id": "fe69933a",
   "metadata": {
    "papermill": {
     "duration": 0.049843,
     "end_time": "2022-02-19T10:33:43.745995",
     "exception": false,
     "start_time": "2022-02-19T10:33:43.696152",
     "status": "completed"
    },
    "tags": []
   },
   "source": [
    "The dataset has 0 null values."
   ]
  },
  {
   "cell_type": "markdown",
   "id": "d877f024",
   "metadata": {
    "papermill": {
     "duration": 0.048236,
     "end_time": "2022-02-19T10:33:43.843967",
     "exception": false,
     "start_time": "2022-02-19T10:33:43.795731",
     "status": "completed"
    },
    "tags": []
   },
   "source": [
    "# Feature Visualization"
   ]
  },
  {
   "cell_type": "code",
   "execution_count": 8,
   "id": "581b0af2",
   "metadata": {
    "execution": {
     "iopub.execute_input": "2022-02-19T10:33:43.956414Z",
     "iopub.status.busy": "2022-02-19T10:33:43.955719Z",
     "iopub.status.idle": "2022-02-19T10:33:44.191005Z",
     "shell.execute_reply": "2022-02-19T10:33:44.191591Z",
     "shell.execute_reply.started": "2022-02-19T10:22:51.045024Z"
    },
    "papermill": {
     "duration": 0.298679,
     "end_time": "2022-02-19T10:33:44.191817",
     "exception": false,
     "start_time": "2022-02-19T10:33:43.893138",
     "status": "completed"
    },
    "tags": []
   },
   "outputs": [
    {
     "data": {
      "text/plain": [
       "<AxesSubplot:xlabel='Exited', ylabel='count'>"
      ]
     },
     "execution_count": 8,
     "metadata": {},
     "output_type": "execute_result"
    },
    {
     "data": {
      "image/png": "[encoded data removed]",
      "text/plain": [
       "<Figure size 432x288 with 1 Axes>"
      ]
     },
     "metadata": {
      "needs_background": "light"
     },
     "output_type": "display_data"
    }
   ],
   "source": [
    "sns.countplot(x=df.Exited,data=df)"
   ]
  },
  {
   "cell_type": "markdown",
   "id": "7c3ded9c",
   "metadata": {
    "papermill": {
     "duration": 0.049764,
     "end_time": "2022-02-19T10:33:44.293150",
     "exception": false,
     "start_time": "2022-02-19T10:33:44.243386",
     "status": "completed"
    },
    "tags": []
   },
   "source": [
    "1 means person has exited from the company."
   ]
  },
  {
   "cell_type": "code",
   "execution_count": 9,
   "id": "678de479",
   "metadata": {
    "execution": {
     "iopub.execute_input": "2022-02-19T10:33:44.403303Z",
     "iopub.status.busy": "2022-02-19T10:33:44.400720Z",
     "iopub.status.idle": "2022-02-19T10:33:44.906045Z",
     "shell.execute_reply": "2022-02-19T10:33:44.906593Z",
     "shell.execute_reply.started": "2022-02-19T10:22:51.256683Z"
    },
    "papermill": {
     "duration": 0.562268,
     "end_time": "2022-02-19T10:33:44.906808",
     "exception": false,
     "start_time": "2022-02-19T10:33:44.344540",
     "status": "completed"
    },
    "tags": []
   },
   "outputs": [
    {
     "data": {
      "text/plain": [
       "<AxesSubplot:xlabel='CreditScore', ylabel='Count'>"
      ]
     },
     "execution_count": 9,
     "metadata": {},
     "output_type": "execute_result"
    },
    {
     "data": {
      "image/png": "[encoded data removed]",
      "text/plain": [
       "<Figure size 432x288 with 1 Axes>"
      ]
     },
     "metadata": {
      "needs_background": "light"
     },
     "output_type": "display_data"
    }
   ],
   "source": [
    "sns.histplot(x=df.CreditScore,data=df,hue=df.Exited)"
   ]
  },
  {
   "cell_type": "code",
   "execution_count": 10,
   "id": "8273fb5e",
   "metadata": {
    "execution": {
     "iopub.execute_input": "2022-02-19T10:33:45.032694Z",
     "iopub.status.busy": "2022-02-19T10:33:45.018262Z",
     "iopub.status.idle": "2022-02-19T10:33:45.384280Z",
     "shell.execute_reply": "2022-02-19T10:33:45.383581Z",
     "shell.execute_reply.started": "2022-02-19T10:22:51.738454Z"
    },
    "papermill": {
     "duration": 0.423011,
     "end_time": "2022-02-19T10:33:45.384434",
     "exception": false,
     "start_time": "2022-02-19T10:33:44.961423",
     "status": "completed"
    },
    "tags": []
   },
   "outputs": [
    {
     "data": {
      "text/plain": [
       "<AxesSubplot:xlabel='Tenure', ylabel='count'>"
      ]
     },
     "execution_count": 10,
     "metadata": {},
     "output_type": "execute_result"
    },
    {
     "data": {
      "image/png": "[encoded data removed]",
      "text/plain": [
       "<Figure size 432x288 with 1 Axes>"
      ]
     },
     "metadata": {
      "needs_background": "light"
     },
     "output_type": "display_data"
    }
   ],
   "source": [
    "sns.countplot(x=df.Tenure,data=df,hue=df.Exited)"
   ]
  },
  {
   "cell_type": "code",
   "execution_count": 11,
   "id": "1e622a92",
   "metadata": {
    "execution": {
     "iopub.execute_input": "2022-02-19T10:33:45.509302Z",
     "iopub.status.busy": "2022-02-19T10:33:45.501694Z",
     "iopub.status.idle": "2022-02-19T10:33:45.774664Z",
     "shell.execute_reply": "2022-02-19T10:33:45.775148Z",
     "shell.execute_reply.started": "2022-02-19T10:22:52.085619Z"
    },
    "papermill": {
     "duration": 0.336289,
     "end_time": "2022-02-19T10:33:45.775362",
     "exception": false,
     "start_time": "2022-02-19T10:33:45.439073",
     "status": "completed"
    },
    "tags": []
   },
   "outputs": [
    {
     "data": {
      "text/plain": [
       "<AxesSubplot:xlabel='NumOfProducts', ylabel='count'>"
      ]
     },
     "execution_count": 11,
     "metadata": {},
     "output_type": "execute_result"
    },
    {
     "data": {
      "image/png": "[encoded data removed]",
      "text/plain": [
       "<Figure size 432x288 with 1 Axes>"
      ]
     },
     "metadata": {
      "needs_background": "light"
     },
     "output_type": "display_data"
    }
   ],
   "source": [
    "sns.countplot(x=df.NumOfProducts,data=df,hue=df.Exited)"
   ]
  },
  {
   "cell_type": "markdown",
   "id": "175a0af0",
   "metadata": {
    "papermill": {
     "duration": 0.055578,
     "end_time": "2022-02-19T10:33:45.885401",
     "exception": false,
     "start_time": "2022-02-19T10:33:45.829823",
     "status": "completed"
    },
    "tags": []
   },
   "source": [
    "# Data Preprocessing"
   ]
  },
  {
   "cell_type": "markdown",
   "id": "1bf940f2",
   "metadata": {
    "papermill": {
     "duration": 0.055391,
     "end_time": "2022-02-19T10:33:45.997124",
     "exception": false,
     "start_time": "2022-02-19T10:33:45.941733",
     "status": "completed"
    },
    "tags": []
   },
   "source": [
    "Deleting unwanted columns"
   ]
  },
  {
   "cell_type": "code",
   "execution_count": 12,
   "id": "ec4fd09a",
   "metadata": {
    "execution": {
     "iopub.execute_input": "2022-02-19T10:33:46.126040Z",
     "iopub.status.busy": "2022-02-19T10:33:46.125284Z",
     "iopub.status.idle": "2022-02-19T10:33:46.134633Z",
     "shell.execute_reply": "2022-02-19T10:33:46.135480Z",
     "shell.execute_reply.started": "2022-02-19T10:22:52.326074Z"
    },
    "papermill": {
     "duration": 0.080513,
     "end_time": "2022-02-19T10:33:46.135743",
     "exception": false,
     "start_time": "2022-02-19T10:33:46.055230",
     "status": "completed"
    },
    "tags": []
   },
   "outputs": [],
   "source": [
    "df.drop(['CustomerId','RowNumber','Surname'],axis=1,inplace=True)"
   ]
  },
  {
   "cell_type": "markdown",
   "id": "9cfaa0b4",
   "metadata": {
    "papermill": {
     "duration": 0.067051,
     "end_time": "2022-02-19T10:33:46.281751",
     "exception": false,
     "start_time": "2022-02-19T10:33:46.214700",
     "status": "completed"
    },
    "tags": []
   },
   "source": [
    "Scaling the data so that training of the model is easy"
   ]
  },
  {
   "cell_type": "code",
   "execution_count": 13,
   "id": "04045eb2",
   "metadata": {
    "execution": {
     "iopub.execute_input": "2022-02-19T10:33:46.420358Z",
     "iopub.status.busy": "2022-02-19T10:33:46.419565Z",
     "iopub.status.idle": "2022-02-19T10:33:46.608519Z",
     "shell.execute_reply": "2022-02-19T10:33:46.607003Z",
     "shell.execute_reply.started": "2022-02-19T10:22:52.335781Z"
    },
    "papermill": {
     "duration": 0.256954,
     "end_time": "2022-02-19T10:33:46.608922",
     "exception": false,
     "start_time": "2022-02-19T10:33:46.351968",
     "status": "completed"
    },
    "tags": []
   },
   "outputs": [],
   "source": [
    "from sklearn.preprocessing import MinMaxScaler\n",
    "\n",
    "cols_to_scaled = [\"CreditScore\",\"Age\",\"Tenure\",\"NumOfProducts\",\"EstimatedSalary\",\"Balance\"]\n",
    "scaler=MinMaxScaler()\n",
    "df[cols_to_scaled]=scaler.fit_transform(df[cols_to_scaled])"
   ]
  },
  {
   "cell_type": "code",
   "execution_count": 14,
   "id": "bd7edcee",
   "metadata": {
    "execution": {
     "iopub.execute_input": "2022-02-19T10:33:46.756841Z",
     "iopub.status.busy": "2022-02-19T10:33:46.752577Z",
     "iopub.status.idle": "2022-02-19T10:33:46.779091Z",
     "shell.execute_reply": "2022-02-19T10:33:46.779903Z",
     "shell.execute_reply.started": "2022-02-19T10:22:52.392480Z"
    },
    "papermill": {
     "duration": 0.09627,
     "end_time": "2022-02-19T10:33:46.780201",
     "exception": false,
     "start_time": "2022-02-19T10:33:46.683931",
     "status": "completed"
    },
    "tags": []
   },
   "outputs": [
    {
     "name": "stdout",
     "output_type": "stream",
     "text": [
      "CreditScore : [0.538 0.516 0.304 0.698 1.    0.59  0.944 0.052 0.302 0.668 0.356 0.294\n",
      " 0.252 0.398 0.57  0.532 0.606 0.474 0.752 0.764 0.572 0.32  0.638 0.992\n",
      " 0.454 0.812 0.442 0.448 0.122 0.482 0.366 0.406 0.34  0.744 0.25  0.28\n",
      " 0.908 0.464 0.244 0.23  0.412 0.968 0.62  0.852 0.958 0.574 0.4   0.696\n",
      " 0.47  0.876 0.61  0.502 0.612 0.75  0.322 0.528 0.784 0.674 0.41  0.506\n",
      " 0.802 0.462 0.77  0.622 0.65  0.776 0.926 0.614 0.508 0.338 0.628 0.656\n",
      " 0.814 0.132 0.63  0.854 0.386 0.312 0.286 0.604 0.8   0.758 0.592 0.594\n",
      " 0.916 0.348 0.838 0.76  0.33  0.846 0.928 0.72  0.126 0.546 0.64  0.544\n",
      " 0.87  0.51  0.258 0.67  0.376 0.424 0.742 0.556 0.636 0.956 0.648 0.55\n",
      " 0.164 0.84  0.816 0.89  0.672 0.878 0.478 0.222 0.468 0.458 0.626 0.664\n",
      " 0.886 0.682 0.27  0.6   0.808 0.37  0.732 0.378 0.712 0.472 0.562 0.734\n",
      " 0.9   0.666 0.708 0.53  0.634 0.268 0.26  0.456 0.324 0.512 0.494 0.856\n",
      " 0.328 0.35  0.73  0.46  0.914 0.342 0.818 0.332 0.722 0.536 0.586 0.642\n",
      " 0.678 0.54  0.652 0.444 0.69  0.484 0.434 0.688 0.394 0.488 0.646 0.52\n",
      " 0.834 0.826 0.724 0.706 0.624 0.618 0.346 0.844 0.39  0.568 0.778 0.842\n",
      " 0.662 0.388 0.692 0.832 0.754 0.686 0.414 0.362 0.296 0.602 0.882 0.766\n",
      " 0.922 0.714 0.728 0.864 0.85  0.898 0.504 0.788 0.476 0.794 0.466 0.554\n",
      " 0.762 0.558 0.176 0.584 0.912 0.248 0.418 0.158 0.66  0.798 0.768 0.588\n",
      " 0.552 0.598 0.91  0.736 0.98  0.56  0.608 0.824 0.436 0.526 0.344 0.774\n",
      " 0.596 0.186 0.58  0.38  0.22  0.486 0.902 0.522 0.904 0.79  0.266 0.68\n",
      " 0.284 0.718 0.71  0.42  0.804 0.702 0.374 0.274 0.492 0.704 0.272 0.748\n",
      " 0.396 0.228 0.88  0.368 0.796 0.288 0.48  0.236 0.318 0.936 0.932 0.372\n",
      " 0.806 0.848 0.542 0.438 0.616 0.896 0.582 0.384 0.684 0.578 0.83  0.44\n",
      " 0.576 0.498 0.564 0.858 0.354 0.428 0.966 0.308 0.984 0.316 0.134 0.496\n",
      " 0.782 0.514 0.822 0.996 0.392 0.178 0.81  0.82  0.352 0.726 0.7   0.632\n",
      " 0.432 0.29  0.676 0.524 0.254 0.154 0.978 0.938 0.74  0.218 0.306 0.548\n",
      " 0.358 0.426 0.264 0.892 0.19  0.792 0.872 0.408 0.644 0.874 0.298 0.988\n",
      " 0.2   0.93  0.976 0.906 0.772 0.566 0.5   0.658 0.334 0.884 0.786 0.276\n",
      " 0.142 0.982 0.716 0.314 0.31  0.212 0.17  0.422 0.336 0.43  0.756 0.868\n",
      " 0.404 0.518 0.828 0.694 0.746 0.402 0.188 0.738 0.292 0.382 0.96  0.924\n",
      " 0.654 0.14  0.49  0.534 0.918 0.3   0.952 0.168 0.326 0.256 0.894 0.026\n",
      " 0.098 0.226 0.86  0.204 0.45  0.974 0.888 0.948 0.156 0.946 0.862 0.998\n",
      " 0.278 0.162 0.214 0.836 0.962 0.018 0.94  0.446 0.452 0.416 0.934 0.198\n",
      " 0.18  0.13  0.942 0.36  0.    0.192 0.15  0.78  0.262 0.866 0.016 0.99\n",
      " 0.202 0.216 0.238 0.146 0.108 0.972 0.246 0.97  0.232 0.282 0.002 0.954\n",
      " 0.986 0.03  0.364 0.128 0.206 0.242 0.102 0.92  0.964 0.24  0.194 0.144\n",
      " 0.95  0.16  0.172 0.152 0.116 0.994 0.136 0.174 0.12  0.208 0.114 0.21\n",
      " 0.224 0.072 0.11  0.066 0.09  0.234 0.166 0.184 0.148 0.196 0.182 0.034\n",
      " 0.124 0.064 0.046 0.138]\n",
      "Geography : ['France' 'Spain' 'Germany']\n",
      "Gender : ['Female' 'Male']\n",
      "Age : [0.32432432 0.31081081 0.28378378 0.33783784 0.35135135 0.43243243\n",
      " 0.14864865 0.12162162 0.17567568 0.08108108 0.21621622 0.09459459\n",
      " 0.22972973 0.36486486 0.54054054 0.18918919 0.27027027 0.37837838\n",
      " 0.24324324 0.2027027  0.2972973  0.44594595 0.58108108 0.41891892\n",
      " 0.25675676 0.01351351 0.64864865 0.51351351 0.10810811 0.04054054\n",
      " 0.5        0.77027027 0.05405405 0.16216216 0.13513514 0.63513514\n",
      " 0.40540541 0.45945946 0.52702703 0.74324324 0.39189189 0.48648649\n",
      " 0.72972973 0.02702703 0.66216216 0.82432432 0.59459459 0.47297297\n",
      " 0.83783784 0.55405405 0.67567568 0.06756757 0.56756757 0.7027027\n",
      " 0.60810811 0.62162162 0.         0.86486486 0.68918919 0.75675676\n",
      " 0.71621622 0.78378378 0.7972973  0.94594595 0.90540541 0.89189189\n",
      " 0.81081081 0.85135135 1.         0.87837838]\n",
      "Tenure : [0.2 0.1 0.8 0.7 0.4 0.6 0.3 1.  0.5 0.9 0. ]\n",
      "Balance : [0.         0.33403148 0.63635718 ... 0.22865702 0.29922631 0.51870777]\n",
      "NumOfProducts : [0.         0.66666667 0.33333333 1.        ]\n",
      "HasCrCard : [1 0]\n",
      "IsActiveMember : [1 0]\n",
      "EstimatedSalary : [0.50673489 0.56270874 0.56965435 ... 0.21039009 0.46442905 0.19091423]\n",
      "Exited : [1 0]\n"
     ]
    }
   ],
   "source": [
    "for col in df.columns:\n",
    "    print(col,\":\",df[col].unique())"
   ]
  },
  {
   "cell_type": "code",
   "execution_count": 15,
   "id": "bc2dd4cf",
   "metadata": {
    "execution": {
     "iopub.execute_input": "2022-02-19T10:33:46.913003Z",
     "iopub.status.busy": "2022-02-19T10:33:46.912303Z",
     "iopub.status.idle": "2022-02-19T10:33:46.931667Z",
     "shell.execute_reply": "2022-02-19T10:33:46.930907Z",
     "shell.execute_reply.started": "2022-02-19T10:22:52.418559Z"
    },
    "papermill": {
     "duration": 0.088838,
     "end_time": "2022-02-19T10:33:46.931830",
     "exception": false,
     "start_time": "2022-02-19T10:33:46.842992",
     "status": "completed"
    },
    "tags": []
   },
   "outputs": [
    {
     "data": {
      "text/plain": [
       "0    5457\n",
       "1    4543\n",
       "Name: Gender, dtype: int64"
      ]
     },
     "execution_count": 15,
     "metadata": {},
     "output_type": "execute_result"
    }
   ],
   "source": [
    "df['Gender'].replace({'Female':1,'Male':0},inplace=True)\n",
    "df.Gender.value_counts()"
   ]
  },
  {
   "cell_type": "markdown",
   "id": "7bdb0162",
   "metadata": {
    "papermill": {
     "duration": 0.059741,
     "end_time": "2022-02-19T10:33:47.053134",
     "exception": false,
     "start_time": "2022-02-19T10:33:46.993393",
     "status": "completed"
    },
    "tags": []
   },
   "source": [
    "One hot encoding for categorical column"
   ]
  },
  {
   "cell_type": "code",
   "execution_count": 16,
   "id": "205903e8",
   "metadata": {
    "execution": {
     "iopub.execute_input": "2022-02-19T10:33:47.178033Z",
     "iopub.status.busy": "2022-02-19T10:33:47.177004Z",
     "iopub.status.idle": "2022-02-19T10:33:47.202126Z",
     "shell.execute_reply": "2022-02-19T10:33:47.202775Z",
     "shell.execute_reply.started": "2022-02-19T10:22:52.435071Z"
    },
    "papermill": {
     "duration": 0.090967,
     "end_time": "2022-02-19T10:33:47.202965",
     "exception": false,
     "start_time": "2022-02-19T10:33:47.111998",
     "status": "completed"
    },
    "tags": []
   },
   "outputs": [
    {
     "data": {
      "text/html": [
       "<div>\n",
       "<style scoped>\n",
       "    .dataframe tbody tr th:only-of-type {\n",
       "        vertical-align: middle;\n",
       "    }\n",
       "\n",
       "    .dataframe tbody tr th {\n",
       "        vertical-align: top;\n",
       "    }\n",
       "\n",
       "    .dataframe thead th {\n",
       "        text-align: right;\n",
       "    }\n",
       "</style>\n",
       "<table border=\"1\" class=\"dataframe\">\n",
       "  <thead>\n",
       "    <tr style=\"text-align: right;\">\n",
       "      <th></th>\n",
       "      <th>CreditScore</th>\n",
       "      <th>Gender</th>\n",
       "      <th>Age</th>\n",
       "      <th>Tenure</th>\n",
       "      <th>Balance</th>\n",
       "      <th>NumOfProducts</th>\n",
       "      <th>HasCrCard</th>\n",
       "      <th>IsActiveMember</th>\n",
       "      <th>EstimatedSalary</th>\n",
       "      <th>Exited</th>\n",
       "      <th>Geography_Germany</th>\n",
       "      <th>Geography_Spain</th>\n",
       "    </tr>\n",
       "  </thead>\n",
       "  <tbody>\n",
       "    <tr>\n",
       "      <th>0</th>\n",
       "      <td>0.538</td>\n",
       "      <td>1</td>\n",
       "      <td>0.324324</td>\n",
       "      <td>0.2</td>\n",
       "      <td>0.000000</td>\n",
       "      <td>0.000000</td>\n",
       "      <td>1</td>\n",
       "      <td>1</td>\n",
       "      <td>0.506735</td>\n",
       "      <td>1</td>\n",
       "      <td>0</td>\n",
       "      <td>0</td>\n",
       "    </tr>\n",
       "    <tr>\n",
       "      <th>1</th>\n",
       "      <td>0.516</td>\n",
       "      <td>1</td>\n",
       "      <td>0.310811</td>\n",
       "      <td>0.1</td>\n",
       "      <td>0.334031</td>\n",
       "      <td>0.000000</td>\n",
       "      <td>0</td>\n",
       "      <td>1</td>\n",
       "      <td>0.562709</td>\n",
       "      <td>0</td>\n",
       "      <td>0</td>\n",
       "      <td>1</td>\n",
       "    </tr>\n",
       "    <tr>\n",
       "      <th>2</th>\n",
       "      <td>0.304</td>\n",
       "      <td>1</td>\n",
       "      <td>0.324324</td>\n",
       "      <td>0.8</td>\n",
       "      <td>0.636357</td>\n",
       "      <td>0.666667</td>\n",
       "      <td>1</td>\n",
       "      <td>0</td>\n",
       "      <td>0.569654</td>\n",
       "      <td>1</td>\n",
       "      <td>0</td>\n",
       "      <td>0</td>\n",
       "    </tr>\n",
       "  </tbody>\n",
       "</table>\n",
       "</div>"
      ],
      "text/plain": [
       "   CreditScore  Gender       Age  Tenure   Balance  NumOfProducts  HasCrCard  \\\n",
       "0        0.538       1  0.324324     0.2  0.000000       0.000000          1   \n",
       "1        0.516       1  0.310811     0.1  0.334031       0.000000          0   \n",
       "2        0.304       1  0.324324     0.8  0.636357       0.666667          1   \n",
       "\n",
       "   IsActiveMember  EstimatedSalary  Exited  Geography_Germany  Geography_Spain  \n",
       "0               1         0.506735       1                  0                0  \n",
       "1               1         0.562709       0                  0                1  \n",
       "2               0         0.569654       1                  0                0  "
      ]
     },
     "execution_count": 16,
     "metadata": {},
     "output_type": "execute_result"
    }
   ],
   "source": [
    "df=pd.get_dummies(data=df,drop_first=True)\n",
    "df.head(3)"
   ]
  },
  {
   "cell_type": "code",
   "execution_count": 17,
   "id": "c41f7787",
   "metadata": {
    "execution": {
     "iopub.execute_input": "2022-02-19T10:33:47.319449Z",
     "iopub.status.busy": "2022-02-19T10:33:47.318373Z",
     "iopub.status.idle": "2022-02-19T10:33:47.345498Z",
     "shell.execute_reply": "2022-02-19T10:33:47.346242Z",
     "shell.execute_reply.started": "2022-02-19T10:22:52.467134Z"
    },
    "papermill": {
     "duration": 0.088624,
     "end_time": "2022-02-19T10:33:47.346478",
     "exception": false,
     "start_time": "2022-02-19T10:33:47.257854",
     "status": "completed"
    },
    "tags": []
   },
   "outputs": [
    {
     "name": "stdout",
     "output_type": "stream",
     "text": [
      "CreditScore : [0.538 0.516 0.304 0.698 1.    0.59  0.944 0.052 0.302 0.668 0.356 0.294\n",
      " 0.252 0.398 0.57  0.532 0.606 0.474 0.752 0.764 0.572 0.32  0.638 0.992\n",
      " 0.454 0.812 0.442 0.448 0.122 0.482 0.366 0.406 0.34  0.744 0.25  0.28\n",
      " 0.908 0.464 0.244 0.23  0.412 0.968 0.62  0.852 0.958 0.574 0.4   0.696\n",
      " 0.47  0.876 0.61  0.502 0.612 0.75  0.322 0.528 0.784 0.674 0.41  0.506\n",
      " 0.802 0.462 0.77  0.622 0.65  0.776 0.926 0.614 0.508 0.338 0.628 0.656\n",
      " 0.814 0.132 0.63  0.854 0.386 0.312 0.286 0.604 0.8   0.758 0.592 0.594\n",
      " 0.916 0.348 0.838 0.76  0.33  0.846 0.928 0.72  0.126 0.546 0.64  0.544\n",
      " 0.87  0.51  0.258 0.67  0.376 0.424 0.742 0.556 0.636 0.956 0.648 0.55\n",
      " 0.164 0.84  0.816 0.89  0.672 0.878 0.478 0.222 0.468 0.458 0.626 0.664\n",
      " 0.886 0.682 0.27  0.6   0.808 0.37  0.732 0.378 0.712 0.472 0.562 0.734\n",
      " 0.9   0.666 0.708 0.53  0.634 0.268 0.26  0.456 0.324 0.512 0.494 0.856\n",
      " 0.328 0.35  0.73  0.46  0.914 0.342 0.818 0.332 0.722 0.536 0.586 0.642\n",
      " 0.678 0.54  0.652 0.444 0.69  0.484 0.434 0.688 0.394 0.488 0.646 0.52\n",
      " 0.834 0.826 0.724 0.706 0.624 0.618 0.346 0.844 0.39  0.568 0.778 0.842\n",
      " 0.662 0.388 0.692 0.832 0.754 0.686 0.414 0.362 0.296 0.602 0.882 0.766\n",
      " 0.922 0.714 0.728 0.864 0.85  0.898 0.504 0.788 0.476 0.794 0.466 0.554\n",
      " 0.762 0.558 0.176 0.584 0.912 0.248 0.418 0.158 0.66  0.798 0.768 0.588\n",
      " 0.552 0.598 0.91  0.736 0.98  0.56  0.608 0.824 0.436 0.526 0.344 0.774\n",
      " 0.596 0.186 0.58  0.38  0.22  0.486 0.902 0.522 0.904 0.79  0.266 0.68\n",
      " 0.284 0.718 0.71  0.42  0.804 0.702 0.374 0.274 0.492 0.704 0.272 0.748\n",
      " 0.396 0.228 0.88  0.368 0.796 0.288 0.48  0.236 0.318 0.936 0.932 0.372\n",
      " 0.806 0.848 0.542 0.438 0.616 0.896 0.582 0.384 0.684 0.578 0.83  0.44\n",
      " 0.576 0.498 0.564 0.858 0.354 0.428 0.966 0.308 0.984 0.316 0.134 0.496\n",
      " 0.782 0.514 0.822 0.996 0.392 0.178 0.81  0.82  0.352 0.726 0.7   0.632\n",
      " 0.432 0.29  0.676 0.524 0.254 0.154 0.978 0.938 0.74  0.218 0.306 0.548\n",
      " 0.358 0.426 0.264 0.892 0.19  0.792 0.872 0.408 0.644 0.874 0.298 0.988\n",
      " 0.2   0.93  0.976 0.906 0.772 0.566 0.5   0.658 0.334 0.884 0.786 0.276\n",
      " 0.142 0.982 0.716 0.314 0.31  0.212 0.17  0.422 0.336 0.43  0.756 0.868\n",
      " 0.404 0.518 0.828 0.694 0.746 0.402 0.188 0.738 0.292 0.382 0.96  0.924\n",
      " 0.654 0.14  0.49  0.534 0.918 0.3   0.952 0.168 0.326 0.256 0.894 0.026\n",
      " 0.098 0.226 0.86  0.204 0.45  0.974 0.888 0.948 0.156 0.946 0.862 0.998\n",
      " 0.278 0.162 0.214 0.836 0.962 0.018 0.94  0.446 0.452 0.416 0.934 0.198\n",
      " 0.18  0.13  0.942 0.36  0.    0.192 0.15  0.78  0.262 0.866 0.016 0.99\n",
      " 0.202 0.216 0.238 0.146 0.108 0.972 0.246 0.97  0.232 0.282 0.002 0.954\n",
      " 0.986 0.03  0.364 0.128 0.206 0.242 0.102 0.92  0.964 0.24  0.194 0.144\n",
      " 0.95  0.16  0.172 0.152 0.116 0.994 0.136 0.174 0.12  0.208 0.114 0.21\n",
      " 0.224 0.072 0.11  0.066 0.09  0.234 0.166 0.184 0.148 0.196 0.182 0.034\n",
      " 0.124 0.064 0.046 0.138]\n",
      "Gender : [1 0]\n",
      "Age : [0.32432432 0.31081081 0.28378378 0.33783784 0.35135135 0.43243243\n",
      " 0.14864865 0.12162162 0.17567568 0.08108108 0.21621622 0.09459459\n",
      " 0.22972973 0.36486486 0.54054054 0.18918919 0.27027027 0.37837838\n",
      " 0.24324324 0.2027027  0.2972973  0.44594595 0.58108108 0.41891892\n",
      " 0.25675676 0.01351351 0.64864865 0.51351351 0.10810811 0.04054054\n",
      " 0.5        0.77027027 0.05405405 0.16216216 0.13513514 0.63513514\n",
      " 0.40540541 0.45945946 0.52702703 0.74324324 0.39189189 0.48648649\n",
      " 0.72972973 0.02702703 0.66216216 0.82432432 0.59459459 0.47297297\n",
      " 0.83783784 0.55405405 0.67567568 0.06756757 0.56756757 0.7027027\n",
      " 0.60810811 0.62162162 0.         0.86486486 0.68918919 0.75675676\n",
      " 0.71621622 0.78378378 0.7972973  0.94594595 0.90540541 0.89189189\n",
      " 0.81081081 0.85135135 1.         0.87837838]\n",
      "Tenure : [0.2 0.1 0.8 0.7 0.4 0.6 0.3 1.  0.5 0.9 0. ]\n",
      "Balance : [0.         0.33403148 0.63635718 ... 0.22865702 0.29922631 0.51870777]\n",
      "NumOfProducts : [0.         0.66666667 0.33333333 1.        ]\n",
      "HasCrCard : [1 0]\n",
      "IsActiveMember : [1 0]\n",
      "EstimatedSalary : [0.50673489 0.56270874 0.56965435 ... 0.21039009 0.46442905 0.19091423]\n",
      "Exited : [1 0]\n",
      "Geography_Germany : [0 1]\n",
      "Geography_Spain : [0 1]\n"
     ]
    }
   ],
   "source": [
    "for col in df.columns:\n",
    "    print(col,\":\",df[col].unique())"
   ]
  },
  {
   "cell_type": "markdown",
   "id": "24ad7c5d",
   "metadata": {
    "papermill": {
     "duration": 0.055982,
     "end_time": "2022-02-19T10:33:47.459228",
     "exception": false,
     "start_time": "2022-02-19T10:33:47.403246",
     "status": "completed"
    },
    "tags": []
   },
   "source": [
    "# Train test split"
   ]
  },
  {
   "cell_type": "code",
   "execution_count": 18,
   "id": "c6af7d90",
   "metadata": {
    "execution": {
     "iopub.execute_input": "2022-02-19T10:33:47.579822Z",
     "iopub.status.busy": "2022-02-19T10:33:47.578955Z",
     "iopub.status.idle": "2022-02-19T10:33:47.655999Z",
     "shell.execute_reply": "2022-02-19T10:33:47.655275Z",
     "shell.execute_reply.started": "2022-02-19T10:22:52.496158Z"
    },
    "papermill": {
     "duration": 0.140273,
     "end_time": "2022-02-19T10:33:47.656177",
     "exception": false,
     "start_time": "2022-02-19T10:33:47.515904",
     "status": "completed"
    },
    "tags": []
   },
   "outputs": [],
   "source": [
    "from sklearn.model_selection import train_test_split\n",
    "x=df.drop('Exited',axis=1)\n",
    "y=df.Exited\n",
    "x_train,x_test,y_train,y_test = train_test_split(x,y,test_size=0.2,random_state=2)"
   ]
  },
  {
   "cell_type": "code",
   "execution_count": 19,
   "id": "06610454",
   "metadata": {
    "execution": {
     "iopub.execute_input": "2022-02-19T10:33:47.778332Z",
     "iopub.status.busy": "2022-02-19T10:33:47.777383Z",
     "iopub.status.idle": "2022-02-19T10:33:47.782146Z",
     "shell.execute_reply": "2022-02-19T10:33:47.781554Z",
     "shell.execute_reply.started": "2022-02-19T10:22:52.526420Z"
    },
    "papermill": {
     "duration": 0.069086,
     "end_time": "2022-02-19T10:33:47.782478",
     "exception": false,
     "start_time": "2022-02-19T10:33:47.713392",
     "status": "completed"
    },
    "tags": []
   },
   "outputs": [
    {
     "data": {
      "text/plain": [
       "(8000, 11)"
      ]
     },
     "execution_count": 19,
     "metadata": {},
     "output_type": "execute_result"
    }
   ],
   "source": [
    "x_train.shape"
   ]
  },
  {
   "cell_type": "code",
   "execution_count": 20,
   "id": "d087c4b0",
   "metadata": {
    "execution": {
     "iopub.execute_input": "2022-02-19T10:33:47.903898Z",
     "iopub.status.busy": "2022-02-19T10:33:47.902965Z",
     "iopub.status.idle": "2022-02-19T10:33:47.906561Z",
     "shell.execute_reply": "2022-02-19T10:33:47.907056Z",
     "shell.execute_reply.started": "2022-02-19T10:22:52.533669Z"
    },
    "papermill": {
     "duration": 0.067501,
     "end_time": "2022-02-19T10:33:47.907288",
     "exception": false,
     "start_time": "2022-02-19T10:33:47.839787",
     "status": "completed"
    },
    "tags": []
   },
   "outputs": [
    {
     "data": {
      "text/plain": [
       "(2000, 11)"
      ]
     },
     "execution_count": 20,
     "metadata": {},
     "output_type": "execute_result"
    }
   ],
   "source": [
    "x_test.shape"
   ]
  },
  {
   "cell_type": "markdown",
   "id": "ac73edeb",
   "metadata": {
    "papermill": {
     "duration": 0.058735,
     "end_time": "2022-02-19T10:33:48.024669",
     "exception": false,
     "start_time": "2022-02-19T10:33:47.965934",
     "status": "completed"
    },
    "tags": []
   },
   "source": [
    "# ANN Model Building"
   ]
  },
  {
   "cell_type": "code",
   "execution_count": 21,
   "id": "2b41d63d",
   "metadata": {
    "execution": {
     "iopub.execute_input": "2022-02-19T10:33:48.146562Z",
     "iopub.status.busy": "2022-02-19T10:33:48.145752Z",
     "iopub.status.idle": "2022-02-19T10:34:05.710488Z",
     "shell.execute_reply": "2022-02-19T10:34:05.709892Z",
     "shell.execute_reply.started": "2022-02-19T10:25:34.902247Z"
    },
    "papermill": {
     "duration": 17.628653,
     "end_time": "2022-02-19T10:34:05.710669",
     "exception": false,
     "start_time": "2022-02-19T10:33:48.082016",
     "status": "completed"
    },
    "tags": []
   },
   "outputs": [
    {
     "name": "stderr",
     "output_type": "stream",
     "text": [
      "2022-02-19 10:33:49.457037: I tensorflow/core/common_runtime/process_util.cc:146] Creating new thread pool with default inter op setting: 2. Tune using inter_op_parallelism_threads for best performance.\n",
      "2022-02-19 10:33:49.665103: I tensorflow/compiler/mlir/mlir_graph_optimization_pass.cc:185] None of the MLIR Optimization Passes are enabled (registered 2)\n"
     ]
    },
    {
     "name": "stdout",
     "output_type": "stream",
     "text": [
      "Epoch 1/30\n",
      "250/250 [==============================] - 1s 2ms/step - loss: 0.5137 - accuracy: 0.7933\n",
      "Epoch 2/30\n",
      "250/250 [==============================] - 1s 2ms/step - loss: 0.4803 - accuracy: 0.7959\n",
      "Epoch 3/30\n",
      "250/250 [==============================] - 0s 2ms/step - loss: 0.4670 - accuracy: 0.8020\n",
      "Epoch 4/30\n",
      "250/250 [==============================] - 0s 2ms/step - loss: 0.4540 - accuracy: 0.8048\n",
      "Epoch 5/30\n",
      "250/250 [==============================] - 1s 2ms/step - loss: 0.4421 - accuracy: 0.8101\n",
      "Epoch 6/30\n",
      "250/250 [==============================] - 1s 2ms/step - loss: 0.4315 - accuracy: 0.8148\n",
      "Epoch 7/30\n",
      "250/250 [==============================] - 1s 2ms/step - loss: 0.4234 - accuracy: 0.8151\n",
      "Epoch 8/30\n",
      "250/250 [==============================] - 1s 2ms/step - loss: 0.4152 - accuracy: 0.8174\n",
      "Epoch 9/30\n",
      "250/250 [==============================] - 1s 2ms/step - loss: 0.4061 - accuracy: 0.8167\n",
      "Epoch 10/30\n",
      "250/250 [==============================] - 1s 2ms/step - loss: 0.3975 - accuracy: 0.8184\n",
      "Epoch 11/30\n",
      "250/250 [==============================] - 1s 2ms/step - loss: 0.3919 - accuracy: 0.8200\n",
      "Epoch 12/30\n",
      "250/250 [==============================] - 1s 2ms/step - loss: 0.3880 - accuracy: 0.8188\n",
      "Epoch 13/30\n",
      "250/250 [==============================] - 1s 3ms/step - loss: 0.3856 - accuracy: 0.8180\n",
      "Epoch 14/30\n",
      "250/250 [==============================] - 1s 2ms/step - loss: 0.3831 - accuracy: 0.8185\n",
      "Epoch 15/30\n",
      "250/250 [==============================] - 1s 2ms/step - loss: 0.3809 - accuracy: 0.8185\n",
      "Epoch 16/30\n",
      "250/250 [==============================] - 0s 2ms/step - loss: 0.3796 - accuracy: 0.8200\n",
      "Epoch 17/30\n",
      "250/250 [==============================] - 1s 2ms/step - loss: 0.3778 - accuracy: 0.8331\n",
      "Epoch 18/30\n",
      "250/250 [==============================] - 0s 2ms/step - loss: 0.3754 - accuracy: 0.8354\n",
      "Epoch 19/30\n",
      "250/250 [==============================] - 0s 2ms/step - loss: 0.3741 - accuracy: 0.8371\n",
      "Epoch 20/30\n",
      "250/250 [==============================] - 0s 2ms/step - loss: 0.3731 - accuracy: 0.8394\n",
      "Epoch 21/30\n",
      "250/250 [==============================] - 0s 2ms/step - loss: 0.3714 - accuracy: 0.8403\n",
      "Epoch 22/30\n",
      "250/250 [==============================] - 1s 2ms/step - loss: 0.3711 - accuracy: 0.8400\n",
      "Epoch 23/30\n",
      "250/250 [==============================] - 1s 2ms/step - loss: 0.3689 - accuracy: 0.8434\n",
      "Epoch 24/30\n",
      "250/250 [==============================] - 0s 2ms/step - loss: 0.3685 - accuracy: 0.8436\n",
      "Epoch 25/30\n",
      "250/250 [==============================] - 0s 2ms/step - loss: 0.3667 - accuracy: 0.8441\n",
      "Epoch 26/30\n",
      "250/250 [==============================] - 1s 2ms/step - loss: 0.3650 - accuracy: 0.8454\n",
      "Epoch 27/30\n",
      "250/250 [==============================] - 0s 2ms/step - loss: 0.3644 - accuracy: 0.8486\n",
      "Epoch 28/30\n",
      "250/250 [==============================] - 0s 2ms/step - loss: 0.3623 - accuracy: 0.8499\n",
      "Epoch 29/30\n",
      "250/250 [==============================] - 0s 2ms/step - loss: 0.3625 - accuracy: 0.8482\n",
      "Epoch 30/30\n",
      "250/250 [==============================] - 0s 2ms/step - loss: 0.3604 - accuracy: 0.8511\n"
     ]
    },
    {
     "data": {
      "text/plain": [
       "<keras.callbacks.History at 0x7efc62abc550>"
      ]
     },
     "execution_count": 21,
     "metadata": {},
     "output_type": "execute_result"
    }
   ],
   "source": [
    "model = keras.Sequential([\n",
    "    keras.layers.Dense(11,input_shape=(11,),activation='relu'),\n",
    "    keras.layers.Dense(6,activation='relu'),\n",
    "    keras.layers.Dense(1,activation='sigmoid'),\n",
    "])\n",
    "\n",
    "model.compile(optimizer='adam',\n",
    "    loss='binary_crossentropy',\n",
    "    metrics=['accuracy'])\n",
    "\n",
    "model.fit(x_train,y_train,epochs=30)"
   ]
  },
  {
   "cell_type": "code",
   "execution_count": 22,
   "id": "121b3070",
   "metadata": {
    "execution": {
     "iopub.execute_input": "2022-02-19T10:34:06.091753Z",
     "iopub.status.busy": "2022-02-19T10:34:06.090654Z",
     "iopub.status.idle": "2022-02-19T10:34:06.094879Z",
     "shell.execute_reply": "2022-02-19T10:34:06.095399Z",
     "shell.execute_reply.started": "2022-02-19T10:25:47.292852Z"
    },
    "papermill": {
     "duration": 0.197138,
     "end_time": "2022-02-19T10:34:06.095602",
     "exception": false,
     "start_time": "2022-02-19T10:34:05.898464",
     "status": "completed"
    },
    "tags": []
   },
   "outputs": [
    {
     "name": "stdout",
     "output_type": "stream",
     "text": [
      "Model: \"sequential\"\n",
      "_________________________________________________________________\n",
      "Layer (type)                 Output Shape              Param #   \n",
      "=================================================================\n",
      "dense (Dense)                (None, 11)                132       \n",
      "_________________________________________________________________\n",
      "dense_1 (Dense)              (None, 6)                 72        \n",
      "_________________________________________________________________\n",
      "dense_2 (Dense)              (None, 1)                 7         \n",
      "=================================================================\n",
      "Total params: 211\n",
      "Trainable params: 211\n",
      "Non-trainable params: 0\n",
      "_________________________________________________________________\n"
     ]
    }
   ],
   "source": [
    "model.summary()"
   ]
  },
  {
   "cell_type": "code",
   "execution_count": 23,
   "id": "a7a7f49f",
   "metadata": {
    "execution": {
     "iopub.execute_input": "2022-02-19T10:34:06.472430Z",
     "iopub.status.busy": "2022-02-19T10:34:06.471398Z",
     "iopub.status.idle": "2022-02-19T10:34:07.139496Z",
     "shell.execute_reply": "2022-02-19T10:34:07.138843Z",
     "shell.execute_reply.started": "2022-02-19T10:25:47.303145Z"
    },
    "papermill": {
     "duration": 0.85986,
     "end_time": "2022-02-19T10:34:07.139699",
     "exception": false,
     "start_time": "2022-02-19T10:34:06.279839",
     "status": "completed"
    },
    "tags": []
   },
   "outputs": [
    {
     "name": "stdout",
     "output_type": "stream",
     "text": [
      "63/63 [==============================] - 1s 2ms/step - loss: 0.3667 - accuracy: 0.8500\n"
     ]
    },
    {
     "data": {
      "text/plain": [
       "[0.3667157292366028, 0.8500000238418579]"
      ]
     },
     "execution_count": 23,
     "metadata": {},
     "output_type": "execute_result"
    }
   ],
   "source": [
    "model.evaluate(x_test,y_test)"
   ]
  },
  {
   "cell_type": "code",
   "execution_count": 24,
   "id": "28621f0f",
   "metadata": {
    "execution": {
     "iopub.execute_input": "2022-02-19T10:34:07.523966Z",
     "iopub.status.busy": "2022-02-19T10:34:07.522907Z",
     "iopub.status.idle": "2022-02-19T10:34:07.769114Z",
     "shell.execute_reply": "2022-02-19T10:34:07.768330Z",
     "shell.execute_reply.started": "2022-02-19T10:25:47.632960Z"
    },
    "papermill": {
     "duration": 0.440942,
     "end_time": "2022-02-19T10:34:07.769366",
     "exception": false,
     "start_time": "2022-02-19T10:34:07.328424",
     "status": "completed"
    },
    "tags": []
   },
   "outputs": [
    {
     "data": {
      "text/plain": [
       "array([[0.14979711],\n",
       "       [0.5992628 ],\n",
       "       [0.39812368],\n",
       "       [0.01110089],\n",
       "       [0.03957129],\n",
       "       [0.00545508],\n",
       "       [0.29433066],\n",
       "       [0.039819  ],\n",
       "       [0.846882  ],\n",
       "       [0.07271942]], dtype=float32)"
      ]
     },
     "execution_count": 24,
     "metadata": {},
     "output_type": "execute_result"
    }
   ],
   "source": [
    "y_pred = model.predict(x_test)\n",
    "y_pred[:10]"
   ]
  },
  {
   "cell_type": "markdown",
   "id": "2807a9c8",
   "metadata": {
    "papermill": {
     "duration": 0.209987,
     "end_time": "2022-02-19T10:34:08.178820",
     "exception": false,
     "start_time": "2022-02-19T10:34:07.968833",
     "status": "completed"
    },
    "tags": []
   },
   "source": [
    "# Performance Metrics"
   ]
  },
  {
   "cell_type": "code",
   "execution_count": 25,
   "id": "7a8de54c",
   "metadata": {
    "_kg_hide-input": true,
    "execution": {
     "iopub.execute_input": "2022-02-19T10:34:08.579566Z",
     "iopub.status.busy": "2022-02-19T10:34:08.578250Z",
     "iopub.status.idle": "2022-02-19T10:34:08.583981Z",
     "shell.execute_reply": "2022-02-19T10:34:08.584506Z",
     "shell.execute_reply.started": "2022-02-19T10:25:47.830840Z"
    },
    "papermill": {
     "duration": 0.205437,
     "end_time": "2022-02-19T10:34:08.584749",
     "exception": false,
     "start_time": "2022-02-19T10:34:08.379312",
     "status": "completed"
    },
    "tags": []
   },
   "outputs": [],
   "source": [
    "pred=[]\n",
    "for element in y_pred:\n",
    "    if element>0.5:\n",
    "        pred.append(1)\n",
    "    else:\n",
    "        pred.append(0)"
   ]
  },
  {
   "cell_type": "code",
   "execution_count": 26,
   "id": "8a6939d3",
   "metadata": {
    "_kg_hide-input": true,
    "execution": {
     "iopub.execute_input": "2022-02-19T10:34:08.963810Z",
     "iopub.status.busy": "2022-02-19T10:34:08.962939Z",
     "iopub.status.idle": "2022-02-19T10:34:08.969336Z",
     "shell.execute_reply": "2022-02-19T10:34:08.969872Z",
     "shell.execute_reply.started": "2022-02-19T10:25:47.841628Z"
    },
    "papermill": {
     "duration": 0.19888,
     "end_time": "2022-02-19T10:34:08.970092",
     "exception": false,
     "start_time": "2022-02-19T10:34:08.771212",
     "status": "completed"
    },
    "tags": []
   },
   "outputs": [
    {
     "name": "stdout",
     "output_type": "stream",
     "text": [
      "Test Accuracy:  85.0\n"
     ]
    }
   ],
   "source": [
    "from sklearn.metrics import accuracy_score\n",
    "print(\"Test Accuracy: \", accuracy_score(y_test, pred)*100)"
   ]
  },
  {
   "cell_type": "code",
   "execution_count": 27,
   "id": "68d63a3c",
   "metadata": {
    "_kg_hide-input": true,
    "execution": {
     "iopub.execute_input": "2022-02-19T10:34:09.362817Z",
     "iopub.status.busy": "2022-02-19T10:34:09.361993Z",
     "iopub.status.idle": "2022-02-19T10:34:09.625088Z",
     "shell.execute_reply": "2022-02-19T10:34:09.624500Z",
     "shell.execute_reply.started": "2022-02-19T10:25:47.859970Z"
    },
    "papermill": {
     "duration": 0.468624,
     "end_time": "2022-02-19T10:34:09.625280",
     "exception": false,
     "start_time": "2022-02-19T10:34:09.156656",
     "status": "completed"
    },
    "tags": []
   },
   "outputs": [
    {
     "data": {
      "image/png": "[encoded data removed]",
      "text/plain": [
       "<Figure size 432x288 with 2 Axes>"
      ]
     },
     "metadata": {
      "needs_background": "light"
     },
     "output_type": "display_data"
    }
   ],
   "source": [
    "from sklearn.metrics import confusion_matrix,classification_report,roc_auc_score,roc_curve\n",
    "cm = tf.math.confusion_matrix(labels=y_test,predictions=pred)\n",
    "ax = sns.heatmap(cm,annot=True,fmt='d',cmap='icefire')\n",
    "plt.show()"
   ]
  },
  {
   "cell_type": "code",
   "execution_count": 28,
   "id": "0672d3d1",
   "metadata": {
    "_kg_hide-input": true,
    "execution": {
     "iopub.execute_input": "2022-02-19T10:34:10.012066Z",
     "iopub.status.busy": "2022-02-19T10:34:10.011363Z",
     "iopub.status.idle": "2022-02-19T10:34:10.023114Z",
     "shell.execute_reply": "2022-02-19T10:34:10.023671Z",
     "shell.execute_reply.started": "2022-02-19T10:25:48.244754Z"
    },
    "papermill": {
     "duration": 0.208268,
     "end_time": "2022-02-19T10:34:10.023871",
     "exception": false,
     "start_time": "2022-02-19T10:34:09.815603",
     "status": "completed"
    },
    "tags": []
   },
   "outputs": [
    {
     "name": "stdout",
     "output_type": "stream",
     "text": [
      "              precision    recall  f1-score   support\n",
      "\n",
      "           0       0.86      0.97      0.91      1617\n",
      "           1       0.72      0.36      0.48       383\n",
      "\n",
      "    accuracy                           0.85      2000\n",
      "   macro avg       0.79      0.66      0.69      2000\n",
      "weighted avg       0.84      0.85      0.83      2000\n",
      "\n"
     ]
    }
   ],
   "source": [
    "print(classification_report(y_test,pred))"
   ]
  },
  {
   "cell_type": "code",
   "execution_count": 29,
   "id": "e2472217",
   "metadata": {
    "_kg_hide-input": true,
    "execution": {
     "iopub.execute_input": "2022-02-19T10:34:10.426048Z",
     "iopub.status.busy": "2022-02-19T10:34:10.425359Z",
     "iopub.status.idle": "2022-02-19T10:34:10.640345Z",
     "shell.execute_reply": "2022-02-19T10:34:10.639590Z",
     "shell.execute_reply.started": "2022-02-19T10:25:48.262622Z"
    },
    "papermill": {
     "duration": 0.420257,
     "end_time": "2022-02-19T10:34:10.640516",
     "exception": false,
     "start_time": "2022-02-19T10:34:10.220259",
     "status": "completed"
    },
    "tags": []
   },
   "outputs": [
    {
     "name": "stdout",
     "output_type": "stream",
     "text": [
      "ROC_AUC:  0.6611573183747745\n"
     ]
    },
    {
     "data": {
      "image/png": "[encoded data removed]",
      "text/plain": [
       "<Figure size 432x288 with 1 Axes>"
      ]
     },
     "metadata": {
      "needs_background": "light"
     },
     "output_type": "display_data"
    }
   ],
   "source": [
    "roc_auc = roc_auc_score(y_test, pred)\n",
    "print('ROC_AUC: ', roc_auc)\n",
    "\n",
    "fpr, tpr, thresholds = roc_curve(y_test, pred)\n",
    "\n",
    "plt.plot(fpr, tpr, label = 'ROC_AUC = %0.3f' % roc_auc)\n",
    "\n",
    "plt.xlabel(\"False Positive Rate\", fontsize= 12)\n",
    "plt.ylabel(\"True Positive Rate\", fontsize= 12)\n",
    "plt.legend(loc=\"lower right\")\n",
    "\n",
    "plt.show()"
   ]
  },
  {
   "cell_type": "markdown",
   "id": "426a1a7c",
   "metadata": {
    "papermill": {
     "duration": 0.191041,
     "end_time": "2022-02-19T10:34:11.024997",
     "exception": false,
     "start_time": "2022-02-19T10:34:10.833956",
     "status": "completed"
    },
    "tags": []
   },
   "source": [
    "F1-score for **class 1** is very less as compared to **class 0** due to imbalanced data.\n",
    "\n",
    "We will be usiing SMOTE(Synthetic Minority Oversampling Technique) is used to get more F1 score on class 1."
   ]
  },
  {
   "cell_type": "code",
   "execution_count": 30,
   "id": "75ac8228",
   "metadata": {
    "execution": {
     "iopub.execute_input": "2022-02-19T10:34:11.407056Z",
     "iopub.status.busy": "2022-02-19T10:34:11.405966Z",
     "iopub.status.idle": "2022-02-19T10:34:11.872320Z",
     "shell.execute_reply": "2022-02-19T10:34:11.871623Z",
     "shell.execute_reply.started": "2022-02-19T10:25:48.422129Z"
    },
    "papermill": {
     "duration": 0.658838,
     "end_time": "2022-02-19T10:34:11.872497",
     "exception": false,
     "start_time": "2022-02-19T10:34:11.213659",
     "status": "completed"
    },
    "tags": []
   },
   "outputs": [
    {
     "data": {
      "text/plain": [
       "1    7963\n",
       "0    7963\n",
       "Name: Exited, dtype: int64"
      ]
     },
     "execution_count": 30,
     "metadata": {},
     "output_type": "execute_result"
    }
   ],
   "source": [
    "from imblearn.over_sampling import SMOTE\n",
    "\n",
    "smote = SMOTE(sampling_strategy='minority')\n",
    "x_sm,y_sm = smote.fit_resample(x,y)\n",
    "\n",
    "y_sm.value_counts()"
   ]
  },
  {
   "cell_type": "code",
   "execution_count": 31,
   "id": "8d06f736",
   "metadata": {
    "execution": {
     "iopub.execute_input": "2022-02-19T10:34:12.265458Z",
     "iopub.status.busy": "2022-02-19T10:34:12.264356Z",
     "iopub.status.idle": "2022-02-19T10:34:12.275339Z",
     "shell.execute_reply": "2022-02-19T10:34:12.275902Z",
     "shell.execute_reply.started": "2022-02-19T10:25:48.584799Z"
    },
    "papermill": {
     "duration": 0.207416,
     "end_time": "2022-02-19T10:34:12.276126",
     "exception": false,
     "start_time": "2022-02-19T10:34:12.068710",
     "status": "completed"
    },
    "tags": []
   },
   "outputs": [],
   "source": [
    "x_train,x_test,y_train,y_test = train_test_split(x_sm,y_sm,test_size=0.2,random_state=2)"
   ]
  },
  {
   "cell_type": "code",
   "execution_count": 32,
   "id": "a130d5fb",
   "metadata": {
    "execution": {
     "iopub.execute_input": "2022-02-19T10:34:12.669073Z",
     "iopub.status.busy": "2022-02-19T10:34:12.667907Z",
     "iopub.status.idle": "2022-02-19T10:36:07.582556Z",
     "shell.execute_reply": "2022-02-19T10:36:07.581858Z",
     "shell.execute_reply.started": "2022-02-19T10:25:48.595597Z"
    },
    "papermill": {
     "duration": 115.112432,
     "end_time": "2022-02-19T10:36:07.582739",
     "exception": false,
     "start_time": "2022-02-19T10:34:12.470307",
     "status": "completed"
    },
    "tags": []
   },
   "outputs": [
    {
     "name": "stdout",
     "output_type": "stream",
     "text": [
      "Epoch 1/100\n",
      "399/399 [==============================] - 1s 3ms/step - loss: 0.4961 - accuracy: 0.7684\n",
      "Epoch 2/100\n",
      "399/399 [==============================] - 1s 3ms/step - loss: 0.4852 - accuracy: 0.7744\n",
      "Epoch 3/100\n",
      "399/399 [==============================] - 1s 3ms/step - loss: 0.4795 - accuracy: 0.7790\n",
      "Epoch 4/100\n",
      "399/399 [==============================] - 1s 3ms/step - loss: 0.4753 - accuracy: 0.7779\n",
      "Epoch 5/100\n",
      "399/399 [==============================] - 1s 3ms/step - loss: 0.4723 - accuracy: 0.7797\n",
      "Epoch 6/100\n",
      "399/399 [==============================] - 1s 3ms/step - loss: 0.4691 - accuracy: 0.7804\n",
      "Epoch 7/100\n",
      "399/399 [==============================] - 1s 3ms/step - loss: 0.4675 - accuracy: 0.7801\n",
      "Epoch 8/100\n",
      "399/399 [==============================] - 1s 3ms/step - loss: 0.4645 - accuracy: 0.7822\n",
      "Epoch 9/100\n",
      "399/399 [==============================] - 1s 3ms/step - loss: 0.4629 - accuracy: 0.7838\n",
      "Epoch 10/100\n",
      "399/399 [==============================] - 1s 3ms/step - loss: 0.4617 - accuracy: 0.7822\n",
      "Epoch 11/100\n",
      "399/399 [==============================] - 1s 3ms/step - loss: 0.4596 - accuracy: 0.7816\n",
      "Epoch 12/100\n",
      "399/399 [==============================] - 1s 3ms/step - loss: 0.4579 - accuracy: 0.7827\n",
      "Epoch 13/100\n",
      "399/399 [==============================] - 1s 3ms/step - loss: 0.4569 - accuracy: 0.7841\n",
      "Epoch 14/100\n",
      "399/399 [==============================] - 1s 3ms/step - loss: 0.4548 - accuracy: 0.7819\n",
      "Epoch 15/100\n",
      "399/399 [==============================] - 1s 3ms/step - loss: 0.4535 - accuracy: 0.7841\n",
      "Epoch 16/100\n",
      "399/399 [==============================] - 1s 3ms/step - loss: 0.4520 - accuracy: 0.7848\n",
      "Epoch 17/100\n",
      "399/399 [==============================] - 1s 3ms/step - loss: 0.4515 - accuracy: 0.7869\n",
      "Epoch 18/100\n",
      "399/399 [==============================] - 1s 3ms/step - loss: 0.4502 - accuracy: 0.7867\n",
      "Epoch 19/100\n",
      "399/399 [==============================] - 1s 3ms/step - loss: 0.4492 - accuracy: 0.7882\n",
      "Epoch 20/100\n",
      "399/399 [==============================] - 1s 3ms/step - loss: 0.4477 - accuracy: 0.7894\n",
      "Epoch 21/100\n",
      "399/399 [==============================] - 1s 3ms/step - loss: 0.4470 - accuracy: 0.7896\n",
      "Epoch 22/100\n",
      "399/399 [==============================] - 1s 3ms/step - loss: 0.4449 - accuracy: 0.7902\n",
      "Epoch 23/100\n",
      "399/399 [==============================] - 1s 3ms/step - loss: 0.4443 - accuracy: 0.7884\n",
      "Epoch 24/100\n",
      "399/399 [==============================] - 1s 3ms/step - loss: 0.4433 - accuracy: 0.7903\n",
      "Epoch 25/100\n",
      "399/399 [==============================] - 1s 3ms/step - loss: 0.4428 - accuracy: 0.7932\n",
      "Epoch 26/100\n",
      "399/399 [==============================] - 1s 3ms/step - loss: 0.4425 - accuracy: 0.7914\n",
      "Epoch 27/100\n",
      "399/399 [==============================] - 1s 3ms/step - loss: 0.4414 - accuracy: 0.7914\n",
      "Epoch 28/100\n",
      "399/399 [==============================] - 1s 3ms/step - loss: 0.4410 - accuracy: 0.7912\n",
      "Epoch 29/100\n",
      "399/399 [==============================] - 1s 3ms/step - loss: 0.4404 - accuracy: 0.7929\n",
      "Epoch 30/100\n",
      "399/399 [==============================] - 1s 3ms/step - loss: 0.4391 - accuracy: 0.7951\n",
      "Epoch 31/100\n",
      "399/399 [==============================] - 1s 3ms/step - loss: 0.4395 - accuracy: 0.7927\n",
      "Epoch 32/100\n",
      "399/399 [==============================] - 1s 3ms/step - loss: 0.4389 - accuracy: 0.7908\n",
      "Epoch 33/100\n",
      "399/399 [==============================] - 1s 3ms/step - loss: 0.4371 - accuracy: 0.7950\n",
      "Epoch 34/100\n",
      "399/399 [==============================] - 1s 3ms/step - loss: 0.4371 - accuracy: 0.7954\n",
      "Epoch 35/100\n",
      "399/399 [==============================] - 1s 3ms/step - loss: 0.4371 - accuracy: 0.7929\n",
      "Epoch 36/100\n",
      "399/399 [==============================] - 1s 3ms/step - loss: 0.4362 - accuracy: 0.7944\n",
      "Epoch 37/100\n",
      "399/399 [==============================] - 1s 3ms/step - loss: 0.4347 - accuracy: 0.7962\n",
      "Epoch 38/100\n",
      "399/399 [==============================] - 1s 3ms/step - loss: 0.4350 - accuracy: 0.7971\n",
      "Epoch 39/100\n",
      "399/399 [==============================] - 1s 3ms/step - loss: 0.4344 - accuracy: 0.7968\n",
      "Epoch 40/100\n",
      "399/399 [==============================] - 1s 3ms/step - loss: 0.4344 - accuracy: 0.7975\n",
      "Epoch 41/100\n",
      "399/399 [==============================] - 1s 3ms/step - loss: 0.4333 - accuracy: 0.7951\n",
      "Epoch 42/100\n",
      "399/399 [==============================] - 1s 3ms/step - loss: 0.4321 - accuracy: 0.7986\n",
      "Epoch 43/100\n",
      "399/399 [==============================] - 1s 3ms/step - loss: 0.4328 - accuracy: 0.7961\n",
      "Epoch 44/100\n",
      "399/399 [==============================] - 1s 3ms/step - loss: 0.4316 - accuracy: 0.7980\n",
      "Epoch 45/100\n",
      "399/399 [==============================] - 1s 3ms/step - loss: 0.4317 - accuracy: 0.7985\n",
      "Epoch 46/100\n",
      "399/399 [==============================] - 1s 3ms/step - loss: 0.4308 - accuracy: 0.7991\n",
      "Epoch 47/100\n",
      "399/399 [==============================] - 1s 3ms/step - loss: 0.4300 - accuracy: 0.7992\n",
      "Epoch 48/100\n",
      "399/399 [==============================] - 1s 3ms/step - loss: 0.4294 - accuracy: 0.7966\n",
      "Epoch 49/100\n",
      "399/399 [==============================] - 1s 3ms/step - loss: 0.4288 - accuracy: 0.8001\n",
      "Epoch 50/100\n",
      "399/399 [==============================] - 1s 3ms/step - loss: 0.4285 - accuracy: 0.7981\n",
      "Epoch 51/100\n",
      "399/399 [==============================] - 1s 3ms/step - loss: 0.4289 - accuracy: 0.8005\n",
      "Epoch 52/100\n",
      "399/399 [==============================] - 1s 3ms/step - loss: 0.4276 - accuracy: 0.7995\n",
      "Epoch 53/100\n",
      "399/399 [==============================] - 1s 3ms/step - loss: 0.4275 - accuracy: 0.7995\n",
      "Epoch 54/100\n",
      "399/399 [==============================] - 1s 3ms/step - loss: 0.4268 - accuracy: 0.8009\n",
      "Epoch 55/100\n",
      "399/399 [==============================] - 1s 3ms/step - loss: 0.4260 - accuracy: 0.8017\n",
      "Epoch 56/100\n",
      "399/399 [==============================] - 1s 3ms/step - loss: 0.4250 - accuracy: 0.8047\n",
      "Epoch 57/100\n",
      "399/399 [==============================] - 1s 3ms/step - loss: 0.4247 - accuracy: 0.8013\n",
      "Epoch 58/100\n",
      "399/399 [==============================] - 1s 3ms/step - loss: 0.4252 - accuracy: 0.8027\n",
      "Epoch 59/100\n",
      "399/399 [==============================] - 1s 3ms/step - loss: 0.4242 - accuracy: 0.8032\n",
      "Epoch 60/100\n",
      "399/399 [==============================] - 1s 3ms/step - loss: 0.4238 - accuracy: 0.8016\n",
      "Epoch 61/100\n",
      "399/399 [==============================] - 1s 3ms/step - loss: 0.4235 - accuracy: 0.8030\n",
      "Epoch 62/100\n",
      "399/399 [==============================] - 1s 3ms/step - loss: 0.4228 - accuracy: 0.8011\n",
      "Epoch 63/100\n",
      "399/399 [==============================] - 1s 3ms/step - loss: 0.4221 - accuracy: 0.8039\n",
      "Epoch 64/100\n",
      "399/399 [==============================] - 1s 3ms/step - loss: 0.4226 - accuracy: 0.8034\n",
      "Epoch 65/100\n",
      "399/399 [==============================] - 1s 3ms/step - loss: 0.4219 - accuracy: 0.8038\n",
      "Epoch 66/100\n",
      "399/399 [==============================] - 1s 3ms/step - loss: 0.4207 - accuracy: 0.8046\n",
      "Epoch 67/100\n",
      "399/399 [==============================] - 1s 3ms/step - loss: 0.4206 - accuracy: 0.8038\n",
      "Epoch 68/100\n",
      "399/399 [==============================] - 1s 3ms/step - loss: 0.4200 - accuracy: 0.8046\n",
      "Epoch 69/100\n",
      "399/399 [==============================] - 1s 3ms/step - loss: 0.4198 - accuracy: 0.8046\n",
      "Epoch 70/100\n",
      "399/399 [==============================] - 1s 3ms/step - loss: 0.4190 - accuracy: 0.8093\n",
      "Epoch 71/100\n",
      "399/399 [==============================] - 1s 3ms/step - loss: 0.4184 - accuracy: 0.8058\n",
      "Epoch 72/100\n",
      "399/399 [==============================] - 1s 3ms/step - loss: 0.4189 - accuracy: 0.8063\n",
      "Epoch 73/100\n",
      "399/399 [==============================] - 1s 3ms/step - loss: 0.4189 - accuracy: 0.8064\n",
      "Epoch 74/100\n",
      "399/399 [==============================] - 1s 3ms/step - loss: 0.4179 - accuracy: 0.8063\n",
      "Epoch 75/100\n",
      "399/399 [==============================] - 1s 3ms/step - loss: 0.4172 - accuracy: 0.8057\n",
      "Epoch 76/100\n",
      "399/399 [==============================] - 1s 3ms/step - loss: 0.4164 - accuracy: 0.8071\n",
      "Epoch 77/100\n",
      "399/399 [==============================] - 1s 3ms/step - loss: 0.4165 - accuracy: 0.8068\n",
      "Epoch 78/100\n",
      "399/399 [==============================] - 1s 3ms/step - loss: 0.4160 - accuracy: 0.8084\n",
      "Epoch 79/100\n",
      "399/399 [==============================] - 1s 3ms/step - loss: 0.4162 - accuracy: 0.8082\n",
      "Epoch 80/100\n",
      "399/399 [==============================] - 1s 3ms/step - loss: 0.4154 - accuracy: 0.8071\n",
      "Epoch 81/100\n",
      "399/399 [==============================] - 1s 3ms/step - loss: 0.4157 - accuracy: 0.8069\n",
      "Epoch 82/100\n",
      "399/399 [==============================] - 1s 3ms/step - loss: 0.4148 - accuracy: 0.8065\n",
      "Epoch 83/100\n",
      "399/399 [==============================] - 1s 3ms/step - loss: 0.4153 - accuracy: 0.8078\n",
      "Epoch 84/100\n",
      "399/399 [==============================] - 1s 3ms/step - loss: 0.4146 - accuracy: 0.8064\n",
      "Epoch 85/100\n",
      "399/399 [==============================] - 1s 3ms/step - loss: 0.4139 - accuracy: 0.8075\n",
      "Epoch 86/100\n",
      "399/399 [==============================] - 1s 3ms/step - loss: 0.4133 - accuracy: 0.8081\n",
      "Epoch 87/100\n",
      "399/399 [==============================] - 1s 3ms/step - loss: 0.4143 - accuracy: 0.8056\n",
      "Epoch 88/100\n",
      "399/399 [==============================] - 1s 3ms/step - loss: 0.4131 - accuracy: 0.8070\n",
      "Epoch 89/100\n",
      "399/399 [==============================] - 1s 3ms/step - loss: 0.4131 - accuracy: 0.8089\n",
      "Epoch 90/100\n",
      "399/399 [==============================] - 1s 3ms/step - loss: 0.4123 - accuracy: 0.8089\n",
      "Epoch 91/100\n",
      "399/399 [==============================] - 1s 3ms/step - loss: 0.4116 - accuracy: 0.8096\n",
      "Epoch 92/100\n",
      "399/399 [==============================] - 1s 3ms/step - loss: 0.4117 - accuracy: 0.8082\n",
      "Epoch 93/100\n",
      "399/399 [==============================] - 1s 3ms/step - loss: 0.4116 - accuracy: 0.8089\n",
      "Epoch 94/100\n",
      "399/399 [==============================] - 1s 3ms/step - loss: 0.4107 - accuracy: 0.8094\n",
      "Epoch 95/100\n",
      "399/399 [==============================] - 1s 3ms/step - loss: 0.4114 - accuracy: 0.8074\n",
      "Epoch 96/100\n",
      "399/399 [==============================] - 1s 3ms/step - loss: 0.4111 - accuracy: 0.8082\n",
      "Epoch 97/100\n",
      "399/399 [==============================] - 1s 2ms/step - loss: 0.4115 - accuracy: 0.8102\n",
      "Epoch 98/100\n",
      "399/399 [==============================] - 1s 2ms/step - loss: 0.4100 - accuracy: 0.8108\n",
      "Epoch 99/100\n",
      "399/399 [==============================] - 1s 3ms/step - loss: 0.4107 - accuracy: 0.8078\n",
      "Epoch 100/100\n",
      "399/399 [==============================] - 1s 3ms/step - loss: 0.4100 - accuracy: 0.8111\n"
     ]
    },
    {
     "data": {
      "text/plain": [
       "<keras.callbacks.History at 0x7efc0c084990>"
      ]
     },
     "execution_count": 32,
     "metadata": {},
     "output_type": "execute_result"
    }
   ],
   "source": [
    "model.fit(x_train,y_train,epochs=100)"
   ]
  },
  {
   "cell_type": "code",
   "execution_count": 33,
   "id": "e1f517b2",
   "metadata": {
    "execution": {
     "iopub.execute_input": "2022-02-19T10:36:09.753539Z",
     "iopub.status.busy": "2022-02-19T10:36:09.752719Z",
     "iopub.status.idle": "2022-02-19T10:36:09.983935Z",
     "shell.execute_reply": "2022-02-19T10:36:09.983299Z",
     "shell.execute_reply.started": "2022-02-19T10:27:16.926304Z"
    },
    "papermill": {
     "duration": 1.334482,
     "end_time": "2022-02-19T10:36:09.984107",
     "exception": false,
     "start_time": "2022-02-19T10:36:08.649625",
     "status": "completed"
    },
    "tags": []
   },
   "outputs": [
    {
     "name": "stdout",
     "output_type": "stream",
     "text": [
      "100/100 [==============================] - 0s 1ms/step - loss: 0.4230 - accuracy: 0.8057\n"
     ]
    },
    {
     "data": {
      "text/plain": [
       "[0.42300620675086975, 0.8057125210762024]"
      ]
     },
     "execution_count": 33,
     "metadata": {},
     "output_type": "execute_result"
    }
   ],
   "source": [
    "model.evaluate(x_test,y_test)"
   ]
  },
  {
   "cell_type": "code",
   "execution_count": 34,
   "id": "042cd8a1",
   "metadata": {
    "execution": {
     "iopub.execute_input": "2022-02-19T10:36:12.232537Z",
     "iopub.status.busy": "2022-02-19T10:36:12.231738Z",
     "iopub.status.idle": "2022-02-19T10:36:12.407148Z",
     "shell.execute_reply": "2022-02-19T10:36:12.406401Z",
     "shell.execute_reply.started": "2022-02-19T10:27:58.660233Z"
    },
    "papermill": {
     "duration": 1.256905,
     "end_time": "2022-02-19T10:36:12.407519",
     "exception": false,
     "start_time": "2022-02-19T10:36:11.150614",
     "status": "completed"
    },
    "tags": []
   },
   "outputs": [
    {
     "data": {
      "text/plain": [
       "array([[0.92875516],\n",
       "       [0.3409801 ],\n",
       "       [0.95850366],\n",
       "       [0.97802556],\n",
       "       [0.56950486],\n",
       "       [0.76412183],\n",
       "       [0.0729011 ],\n",
       "       [0.9387331 ],\n",
       "       [0.08421621],\n",
       "       [0.01660734]], dtype=float32)"
      ]
     },
     "execution_count": 34,
     "metadata": {},
     "output_type": "execute_result"
    }
   ],
   "source": [
    "y_pred1 = model.predict(x_test)\n",
    "y_pred1[:10]"
   ]
  },
  {
   "cell_type": "code",
   "execution_count": 35,
   "id": "8bd94ea9",
   "metadata": {
    "execution": {
     "iopub.execute_input": "2022-02-19T10:36:14.575623Z",
     "iopub.status.busy": "2022-02-19T10:36:14.574921Z",
     "iopub.status.idle": "2022-02-19T10:36:14.587911Z",
     "shell.execute_reply": "2022-02-19T10:36:14.587270Z",
     "shell.execute_reply.started": "2022-02-19T10:28:40.086635Z"
    },
    "papermill": {
     "duration": 1.085353,
     "end_time": "2022-02-19T10:36:14.588081",
     "exception": false,
     "start_time": "2022-02-19T10:36:13.502728",
     "status": "completed"
    },
    "tags": []
   },
   "outputs": [],
   "source": [
    "pred1=[]\n",
    "for element in y_pred1:\n",
    "    if element>0.5:\n",
    "        pred1.append(1)\n",
    "    else:\n",
    "        pred1.append(0)"
   ]
  },
  {
   "cell_type": "code",
   "execution_count": 36,
   "id": "c0372f9f",
   "metadata": {
    "execution": {
     "iopub.execute_input": "2022-02-19T10:36:16.737682Z",
     "iopub.status.busy": "2022-02-19T10:36:16.736965Z",
     "iopub.status.idle": "2022-02-19T10:36:16.743936Z",
     "shell.execute_reply": "2022-02-19T10:36:16.744466Z",
     "shell.execute_reply.started": "2022-02-19T10:29:12.937782Z"
    },
    "papermill": {
     "duration": 1.079075,
     "end_time": "2022-02-19T10:36:16.744703",
     "exception": false,
     "start_time": "2022-02-19T10:36:15.665628",
     "status": "completed"
    },
    "tags": []
   },
   "outputs": [
    {
     "name": "stdout",
     "output_type": "stream",
     "text": [
      "Test Accuracy:  80.57124921531701\n"
     ]
    }
   ],
   "source": [
    "print(\"Test Accuracy: \", accuracy_score(y_test, pred1)*100)"
   ]
  },
  {
   "cell_type": "code",
   "execution_count": 37,
   "id": "98bce583",
   "metadata": {
    "execution": {
     "iopub.execute_input": "2022-02-19T10:36:18.917570Z",
     "iopub.status.busy": "2022-02-19T10:36:18.915927Z",
     "iopub.status.idle": "2022-02-19T10:36:18.930561Z",
     "shell.execute_reply": "2022-02-19T10:36:18.931402Z",
     "shell.execute_reply.started": "2022-02-19T10:29:36.996561Z"
    },
    "papermill": {
     "duration": 1.125537,
     "end_time": "2022-02-19T10:36:18.931675",
     "exception": false,
     "start_time": "2022-02-19T10:36:17.806138",
     "status": "completed"
    },
    "tags": []
   },
   "outputs": [
    {
     "name": "stdout",
     "output_type": "stream",
     "text": [
      "              precision    recall  f1-score   support\n",
      "\n",
      "           0       0.81      0.80      0.81      1602\n",
      "           1       0.80      0.81      0.81      1584\n",
      "\n",
      "    accuracy                           0.81      3186\n",
      "   macro avg       0.81      0.81      0.81      3186\n",
      "weighted avg       0.81      0.81      0.81      3186\n",
      "\n"
     ]
    }
   ],
   "source": [
    "print(classification_report(y_test,pred1))"
   ]
  },
  {
   "cell_type": "code",
   "execution_count": 38,
   "id": "245a52e5",
   "metadata": {
    "execution": {
     "iopub.execute_input": "2022-02-19T10:36:21.153675Z",
     "iopub.status.busy": "2022-02-19T10:36:21.152860Z",
     "iopub.status.idle": "2022-02-19T10:36:21.361635Z",
     "shell.execute_reply": "2022-02-19T10:36:21.362153Z",
     "shell.execute_reply.started": "2022-02-19T10:31:46.442988Z"
    },
    "papermill": {
     "duration": 1.319872,
     "end_time": "2022-02-19T10:36:21.362382",
     "exception": false,
     "start_time": "2022-02-19T10:36:20.042510",
     "status": "completed"
    },
    "tags": []
   },
   "outputs": [
    {
     "name": "stdout",
     "output_type": "stream",
     "text": [
      "ROC_AUC:  0.8057470775167405\n"
     ]
    },
    {
     "data": {
      "image/png": "[encoded data removed]",
      "text/plain": [
       "<Figure size 432x288 with 1 Axes>"
      ]
     },
     "metadata": {
      "needs_background": "light"
     },
     "output_type": "display_data"
    }
   ],
   "source": [
    "roc_auc = roc_auc_score(y_test, pred1)\n",
    "print('ROC_AUC: ', roc_auc)\n",
    "\n",
    "fpr, tpr, thresholds = roc_curve(y_test, pred1)\n",
    "\n",
    "plt.plot(fpr, tpr, label = 'ROC_AUC = %0.3f' % roc_auc)\n",
    "\n",
    "plt.xlabel(\"False Positive Rate\", fontsize= 12)\n",
    "plt.ylabel(\"True Positive Rate\", fontsize= 12)\n",
    "plt.legend(loc=\"lower right\")\n",
    "\n",
    "plt.show()"
   ]
  },
  {
   "cell_type": "markdown",
   "id": "53e9f2b6",
   "metadata": {
    "papermill": {
     "duration": 1.191233,
     "end_time": "2022-02-19T10:36:23.657317",
     "exception": false,
     "start_time": "2022-02-19T10:36:22.466084",
     "status": "completed"
    },
    "tags": []
   },
   "source": [
    "Now the F1-score is also balanced plus the roc_auc is also increased although accuracy has slightly decreased when we didn't use the sampling."
   ]
  }
 ],
 "metadata": {
  "kernelspec": {
   "display_name": "Python 3",
   "language": "python",
   "name": "python3"
  },
  "language_info": {
   "codemirror_mode": {
    "name": "ipython",
    "version": 3
   },
   "file_extension": ".py",
   "mimetype": "text/x-python",
   "name": "python",
   "nbconvert_exporter": "python",
   "pygments_lexer": "ipython3",
   "version": "3.7.12"
  },
  "papermill": {
   "default_parameters": {},
   "duration": 183.783163,
   "end_time": "2022-02-19T10:36:27.714777",
   "environment_variables": {},
   "exception": null,
   "input_path": "__notebook__.ipynb",
   "output_path": "__notebook__.ipynb",
   "parameters": {},
   "start_time": "2022-02-19T10:33:23.931614",
   "version": "2.3.3"
  }
 },
 "nbformat": 4,
 "nbformat_minor": 5
}
