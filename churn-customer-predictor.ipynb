{
 "cells": [
  {
   "cell_type": "markdown",
   "id": "b54fb62f",
   "metadata": {
    "papermill": {
     "duration": 0.028786,
     "end_time": "2022-02-11T08:15:21.396207",
     "exception": false,
     "start_time": "2022-02-11T08:15:21.367421",
     "status": "completed"
    },
    "tags": []
   },
   "source": [
    "**Churn Customer Predictor**\n",
    "\n",
    "*Customer churn prediction is to measure why customers are leaving a business. In this tutorial we will be looking at customer churn in telecom business. We will build a deep learning model to predict the churn and use precision,recall, f1-score to measure performance of our model.*\n",
    "\n",
    "The dataset has 14 features and 10000 rows."
   ]
  },
  {
   "cell_type": "code",
   "execution_count": 1,
   "id": "e524395b",
   "metadata": {
    "_cell_guid": "b1076dfc-b9ad-4769-8c92-a6c4dae69d19",
    "_kg_hide-input": true,
    "_uuid": "8f2839f25d086af736a60e9eeb907d3b93b6e0e5",
    "execution": {
     "iopub.execute_input": "2022-02-11T08:15:21.456688Z",
     "iopub.status.busy": "2022-02-11T08:15:21.455626Z",
     "iopub.status.idle": "2022-02-11T08:15:21.468839Z",
     "shell.execute_reply": "2022-02-11T08:15:21.469617Z",
     "shell.execute_reply.started": "2022-02-11T06:33:16.376729Z"
    },
    "papermill": {
     "duration": 0.04406,
     "end_time": "2022-02-11T08:15:21.469982",
     "exception": false,
     "start_time": "2022-02-11T08:15:21.425922",
     "status": "completed"
    },
    "tags": []
   },
   "outputs": [
    {
     "name": "stdout",
     "output_type": "stream",
     "text": [
      "/kaggle/input/bank-customer-churn-modeling/Churn_Modelling.csv\n"
     ]
    }
   ],
   "source": [
    "# This Python 3 environment comes with many helpful analytics libraries installed\n",
    "# It is defined by the kaggle/python Docker image: https://github.com/kaggle/docker-python\n",
    "# For example, here's several helpful packages to load\n",
    "\n",
    "import numpy as np # linear algebra\n",
    "import pandas as pd # data processing, CSV file I/O (e.g. pd.read_csv)\n",
    "\n",
    "# Input data files are available in the read-only \"../input/\" directory\n",
    "# For example, running this (by clicking run or pressing Shift+Enter) will list all files under the input directory\n",
    "\n",
    "import os\n",
    "for dirname, _, filenames in os.walk('/kaggle/input'):\n",
    "    for filename in filenames:\n",
    "        print(os.path.join(dirname, filename))\n",
    "\n",
    "# You can write up to 20GB to the current directory (/kaggle/working/) that gets preserved as output when you create a version using \"Save & Run All\" \n",
    "# You can also write temporary files to /kaggle/temp/, but they won't be saved outside of the current session"
   ]
  },
  {
   "cell_type": "code",
   "execution_count": 2,
   "id": "c9ddaada",
   "metadata": {
    "execution": {
     "iopub.execute_input": "2022-02-11T08:15:21.528819Z",
     "iopub.status.busy": "2022-02-11T08:15:21.528261Z",
     "iopub.status.idle": "2022-02-11T08:15:26.760339Z",
     "shell.execute_reply": "2022-02-11T08:15:26.759629Z",
     "shell.execute_reply.started": "2022-02-11T06:35:29.752727Z"
    },
    "papermill": {
     "duration": 5.261869,
     "end_time": "2022-02-11T08:15:26.760489",
     "exception": false,
     "start_time": "2022-02-11T08:15:21.498620",
     "status": "completed"
    },
    "tags": []
   },
   "outputs": [],
   "source": [
    "# Importing more important libraries\n",
    "import tensorflow as tf\n",
    "from tensorflow import keras\n",
    "import seaborn as sns\n",
    "import matplotlib.pyplot as plt\n",
    "import warnings\n",
    "warnings.filterwarnings('ignore')"
   ]
  },
  {
   "cell_type": "markdown",
   "id": "3390fa8b",
   "metadata": {
    "papermill": {
     "duration": 0.027045,
     "end_time": "2022-02-11T08:15:26.815041",
     "exception": false,
     "start_time": "2022-02-11T08:15:26.787996",
     "status": "completed"
    },
    "tags": []
   },
   "source": [
    "# Loading Dataset"
   ]
  },
  {
   "cell_type": "code",
   "execution_count": 3,
   "id": "ce6f244a",
   "metadata": {
    "execution": {
     "iopub.execute_input": "2022-02-11T08:15:26.875727Z",
     "iopub.status.busy": "2022-02-11T08:15:26.875149Z",
     "iopub.status.idle": "2022-02-11T08:15:26.938178Z",
     "shell.execute_reply": "2022-02-11T08:15:26.938634Z",
     "shell.execute_reply.started": "2022-02-11T06:36:09.871150Z"
    },
    "papermill": {
     "duration": 0.094658,
     "end_time": "2022-02-11T08:15:26.938792",
     "exception": false,
     "start_time": "2022-02-11T08:15:26.844134",
     "status": "completed"
    },
    "tags": []
   },
   "outputs": [
    {
     "data": {
      "text/html": [
       "<div>\n",
       "<style scoped>\n",
       "    .dataframe tbody tr th:only-of-type {\n",
       "        vertical-align: middle;\n",
       "    }\n",
       "\n",
       "    .dataframe tbody tr th {\n",
       "        vertical-align: top;\n",
       "    }\n",
       "\n",
       "    .dataframe thead th {\n",
       "        text-align: right;\n",
       "    }\n",
       "</style>\n",
       "<table border=\"1\" class=\"dataframe\">\n",
       "  <thead>\n",
       "    <tr style=\"text-align: right;\">\n",
       "      <th></th>\n",
       "      <th>RowNumber</th>\n",
       "      <th>CustomerId</th>\n",
       "      <th>Surname</th>\n",
       "      <th>CreditScore</th>\n",
       "      <th>Geography</th>\n",
       "      <th>Gender</th>\n",
       "      <th>Age</th>\n",
       "      <th>Tenure</th>\n",
       "      <th>Balance</th>\n",
       "      <th>NumOfProducts</th>\n",
       "      <th>HasCrCard</th>\n",
       "      <th>IsActiveMember</th>\n",
       "      <th>EstimatedSalary</th>\n",
       "      <th>Exited</th>\n",
       "    </tr>\n",
       "  </thead>\n",
       "  <tbody>\n",
       "    <tr>\n",
       "      <th>0</th>\n",
       "      <td>1</td>\n",
       "      <td>15634602</td>\n",
       "      <td>Hargrave</td>\n",
       "      <td>619</td>\n",
       "      <td>France</td>\n",
       "      <td>Female</td>\n",
       "      <td>42</td>\n",
       "      <td>2</td>\n",
       "      <td>0.00</td>\n",
       "      <td>1</td>\n",
       "      <td>1</td>\n",
       "      <td>1</td>\n",
       "      <td>101348.88</td>\n",
       "      <td>1</td>\n",
       "    </tr>\n",
       "    <tr>\n",
       "      <th>1</th>\n",
       "      <td>2</td>\n",
       "      <td>15647311</td>\n",
       "      <td>Hill</td>\n",
       "      <td>608</td>\n",
       "      <td>Spain</td>\n",
       "      <td>Female</td>\n",
       "      <td>41</td>\n",
       "      <td>1</td>\n",
       "      <td>83807.86</td>\n",
       "      <td>1</td>\n",
       "      <td>0</td>\n",
       "      <td>1</td>\n",
       "      <td>112542.58</td>\n",
       "      <td>0</td>\n",
       "    </tr>\n",
       "    <tr>\n",
       "      <th>2</th>\n",
       "      <td>3</td>\n",
       "      <td>15619304</td>\n",
       "      <td>Onio</td>\n",
       "      <td>502</td>\n",
       "      <td>France</td>\n",
       "      <td>Female</td>\n",
       "      <td>42</td>\n",
       "      <td>8</td>\n",
       "      <td>159660.80</td>\n",
       "      <td>3</td>\n",
       "      <td>1</td>\n",
       "      <td>0</td>\n",
       "      <td>113931.57</td>\n",
       "      <td>1</td>\n",
       "    </tr>\n",
       "    <tr>\n",
       "      <th>3</th>\n",
       "      <td>4</td>\n",
       "      <td>15701354</td>\n",
       "      <td>Boni</td>\n",
       "      <td>699</td>\n",
       "      <td>France</td>\n",
       "      <td>Female</td>\n",
       "      <td>39</td>\n",
       "      <td>1</td>\n",
       "      <td>0.00</td>\n",
       "      <td>2</td>\n",
       "      <td>0</td>\n",
       "      <td>0</td>\n",
       "      <td>93826.63</td>\n",
       "      <td>0</td>\n",
       "    </tr>\n",
       "    <tr>\n",
       "      <th>4</th>\n",
       "      <td>5</td>\n",
       "      <td>15737888</td>\n",
       "      <td>Mitchell</td>\n",
       "      <td>850</td>\n",
       "      <td>Spain</td>\n",
       "      <td>Female</td>\n",
       "      <td>43</td>\n",
       "      <td>2</td>\n",
       "      <td>125510.82</td>\n",
       "      <td>1</td>\n",
       "      <td>1</td>\n",
       "      <td>1</td>\n",
       "      <td>79084.10</td>\n",
       "      <td>0</td>\n",
       "    </tr>\n",
       "  </tbody>\n",
       "</table>\n",
       "</div>"
      ],
      "text/plain": [
       "   RowNumber  CustomerId   Surname  CreditScore Geography  Gender  Age  \\\n",
       "0          1    15634602  Hargrave          619    France  Female   42   \n",
       "1          2    15647311      Hill          608     Spain  Female   41   \n",
       "2          3    15619304      Onio          502    France  Female   42   \n",
       "3          4    15701354      Boni          699    France  Female   39   \n",
       "4          5    15737888  Mitchell          850     Spain  Female   43   \n",
       "\n",
       "   Tenure    Balance  NumOfProducts  HasCrCard  IsActiveMember  \\\n",
       "0       2       0.00              1          1               1   \n",
       "1       1   83807.86              1          0               1   \n",
       "2       8  159660.80              3          1               0   \n",
       "3       1       0.00              2          0               0   \n",
       "4       2  125510.82              1          1               1   \n",
       "\n",
       "   EstimatedSalary  Exited  \n",
       "0        101348.88       1  \n",
       "1        112542.58       0  \n",
       "2        113931.57       1  \n",
       "3         93826.63       0  \n",
       "4         79084.10       0  "
      ]
     },
     "execution_count": 3,
     "metadata": {},
     "output_type": "execute_result"
    }
   ],
   "source": [
    "df = pd.read_csv('../input/bank-customer-churn-modeling/Churn_Modelling.csv')\n",
    "df.head()"
   ]
  },
  {
   "cell_type": "code",
   "execution_count": 4,
   "id": "d2005963",
   "metadata": {
    "execution": {
     "iopub.execute_input": "2022-02-11T08:15:26.997756Z",
     "iopub.status.busy": "2022-02-11T08:15:26.996847Z",
     "iopub.status.idle": "2022-02-11T08:15:27.002306Z",
     "shell.execute_reply": "2022-02-11T08:15:27.002826Z",
     "shell.execute_reply.started": "2022-02-11T06:37:16.023494Z"
    },
    "papermill": {
     "duration": 0.036567,
     "end_time": "2022-02-11T08:15:27.002980",
     "exception": false,
     "start_time": "2022-02-11T08:15:26.966413",
     "status": "completed"
    },
    "tags": []
   },
   "outputs": [
    {
     "data": {
      "text/plain": [
       "(10000, 14)"
      ]
     },
     "execution_count": 4,
     "metadata": {},
     "output_type": "execute_result"
    }
   ],
   "source": [
    "df.shape"
   ]
  },
  {
   "cell_type": "code",
   "execution_count": 5,
   "id": "a0565fd3",
   "metadata": {
    "execution": {
     "iopub.execute_input": "2022-02-11T08:15:27.062279Z",
     "iopub.status.busy": "2022-02-11T08:15:27.061386Z",
     "iopub.status.idle": "2022-02-11T08:15:27.085771Z",
     "shell.execute_reply": "2022-02-11T08:15:27.086495Z",
     "shell.execute_reply.started": "2022-02-11T06:37:29.530514Z"
    },
    "papermill": {
     "duration": 0.055744,
     "end_time": "2022-02-11T08:15:27.086668",
     "exception": false,
     "start_time": "2022-02-11T08:15:27.030924",
     "status": "completed"
    },
    "tags": []
   },
   "outputs": [
    {
     "name": "stdout",
     "output_type": "stream",
     "text": [
      "RowNumber : [    1     2     3 ...  9998  9999 10000]\n",
      "CustomerId : [15634602 15647311 15619304 ... 15584532 15682355 15628319]\n",
      "Surname : ['Hargrave' 'Hill' 'Onio' ... 'Kashiwagi' 'Aldridge' 'Burbidge']\n",
      "CreditScore : [619 608 502 699 850 645 822 376 501 684 528 497 476 549 635 616 653 587\n",
      " 726 732 636 510 669 846 577 756 571 574 411 591 533 553 520 722 475 490\n",
      " 804 582 472 465 556 834 660 776 829 637 550 698 585 788 655 601 656 725\n",
      " 511 614 742 687 555 603 751 581 735 661 675 738 813 657 604 519 664 678\n",
      " 757 416 665 777 543 506 493 652 750 729 646 647 808 524 769 730 515 773\n",
      " 814 710 413 623 670 622 785 605 479 685 538 562 721 628 668 828 674 625\n",
      " 432 770 758 795 686 789 589 461 584 579 663 682 793 691 485 650 754 535\n",
      " 716 539 706 586 631 717 800 683 704 615 667 484 480 578 512 606 597 778\n",
      " 514 525 715 580 807 521 759 516 711 618 643 671 689 620 676 572 695 592\n",
      " 567 694 547 594 673 610 767 763 712 703 662 659 523 772 545 634 739 771\n",
      " 681 544 696 766 727 693 557 531 498 651 791 733 811 707 714 782 775 799\n",
      " 602 744 588 747 583 627 731 629 438 642 806 474 559 429 680 749 734 644\n",
      " 626 649 805 718 840 630 654 762 568 613 522 737 648 443 640 540 460 593\n",
      " 801 611 802 745 483 690 492 709 705 560 752 701 537 487 596 702 486 724\n",
      " 548 464 790 534 748 494 590 468 509 818 816 536 753 774 621 569 658 798\n",
      " 641 542 692 639 765 570 638 599 632 779 527 564 833 504 842 508 417 598\n",
      " 741 607 761 848 546 439 755 760 526 713 700 666 566 495 688 612 477 427\n",
      " 839 819 720 459 503 624 529 563 482 796 445 746 786 554 672 787 499 844\n",
      " 450 815 838 803 736 633 600 679 517 792 743 488 421 841 708 507 505 456\n",
      " 435 561 518 565 728 784 552 609 764 697 723 551 444 719 496 541 830 812\n",
      " 677 420 595 617 809 500 826 434 513 478 797 363 399 463 780 452 575 837\n",
      " 794 824 428 823 781 849 489 431 457 768 831 359 820 573 576 558 817 449\n",
      " 440 415 821 530 350 446 425 740 481 783 358 845 451 458 469 423 404 836\n",
      " 473 835 466 491 351 827 843 365 532 414 453 471 401 810 832 470 447 422\n",
      " 825 430 436 426 408 847 418 437 410 454 407 455 462 386 405 383 395 467\n",
      " 433 442 424 448 441 367 412 382 373 419]\n",
      "Geography : ['France' 'Spain' 'Germany']\n",
      "Gender : ['Female' 'Male']\n",
      "Age : [42 41 39 43 44 50 29 27 31 24 34 25 35 45 58 32 38 46 36 33 40 51 61 49\n",
      " 37 19 66 56 26 21 55 75 22 30 28 65 48 52 57 73 47 54 72 20 67 79 62 53\n",
      " 80 59 68 23 60 70 63 64 18 82 69 74 71 76 77 88 85 84 78 81 92 83]\n",
      "Tenure : [ 2  1  8  7  4  6  3 10  5  9  0]\n",
      "Balance : [     0.    83807.86 159660.8  ...  57369.61  75075.31 130142.79]\n",
      "NumOfProducts : [1 3 2 4]\n",
      "HasCrCard : [1 0]\n",
      "IsActiveMember : [1 0]\n",
      "EstimatedSalary : [101348.88 112542.58 113931.57 ...  42085.58  92888.52  38190.78]\n",
      "Exited : [1 0]\n"
     ]
    }
   ],
   "source": [
    "for col in df.columns:\n",
    "    print(col,':',df[col].unique())"
   ]
  },
  {
   "cell_type": "code",
   "execution_count": 6,
   "id": "75629e69",
   "metadata": {
    "execution": {
     "iopub.execute_input": "2022-02-11T08:15:27.146942Z",
     "iopub.status.busy": "2022-02-11T08:15:27.146326Z",
     "iopub.status.idle": "2022-02-11T08:15:27.165207Z",
     "shell.execute_reply": "2022-02-11T08:15:27.165799Z",
     "shell.execute_reply.started": "2022-02-11T06:38:05.501554Z"
    },
    "papermill": {
     "duration": 0.05051,
     "end_time": "2022-02-11T08:15:27.166026",
     "exception": false,
     "start_time": "2022-02-11T08:15:27.115516",
     "status": "completed"
    },
    "tags": []
   },
   "outputs": [
    {
     "name": "stdout",
     "output_type": "stream",
     "text": [
      "<class 'pandas.core.frame.DataFrame'>\n",
      "RangeIndex: 10000 entries, 0 to 9999\n",
      "Data columns (total 14 columns):\n",
      " #   Column           Non-Null Count  Dtype  \n",
      "---  ------           --------------  -----  \n",
      " 0   RowNumber        10000 non-null  int64  \n",
      " 1   CustomerId       10000 non-null  int64  \n",
      " 2   Surname          10000 non-null  object \n",
      " 3   CreditScore      10000 non-null  int64  \n",
      " 4   Geography        10000 non-null  object \n",
      " 5   Gender           10000 non-null  object \n",
      " 6   Age              10000 non-null  int64  \n",
      " 7   Tenure           10000 non-null  int64  \n",
      " 8   Balance          10000 non-null  float64\n",
      " 9   NumOfProducts    10000 non-null  int64  \n",
      " 10  HasCrCard        10000 non-null  int64  \n",
      " 11  IsActiveMember   10000 non-null  int64  \n",
      " 12  EstimatedSalary  10000 non-null  float64\n",
      " 13  Exited           10000 non-null  int64  \n",
      "dtypes: float64(2), int64(9), object(3)\n",
      "memory usage: 1.1+ MB\n"
     ]
    }
   ],
   "source": [
    "df.info()"
   ]
  },
  {
   "cell_type": "code",
   "execution_count": 7,
   "id": "11afaea6",
   "metadata": {
    "execution": {
     "iopub.execute_input": "2022-02-11T08:15:27.230377Z",
     "iopub.status.busy": "2022-02-11T08:15:27.229654Z",
     "iopub.status.idle": "2022-02-11T08:15:27.234911Z",
     "shell.execute_reply": "2022-02-11T08:15:27.235388Z",
     "shell.execute_reply.started": "2022-02-11T06:38:39.429732Z"
    },
    "papermill": {
     "duration": 0.040072,
     "end_time": "2022-02-11T08:15:27.235546",
     "exception": false,
     "start_time": "2022-02-11T08:15:27.195474",
     "status": "completed"
    },
    "tags": []
   },
   "outputs": [
    {
     "data": {
      "text/plain": [
       "RowNumber          0\n",
       "CustomerId         0\n",
       "Surname            0\n",
       "CreditScore        0\n",
       "Geography          0\n",
       "Gender             0\n",
       "Age                0\n",
       "Tenure             0\n",
       "Balance            0\n",
       "NumOfProducts      0\n",
       "HasCrCard          0\n",
       "IsActiveMember     0\n",
       "EstimatedSalary    0\n",
       "Exited             0\n",
       "dtype: int64"
      ]
     },
     "execution_count": 7,
     "metadata": {},
     "output_type": "execute_result"
    }
   ],
   "source": [
    "# Checking null values\n",
    "\n",
    "df.isnull().sum()"
   ]
  },
  {
   "cell_type": "markdown",
   "id": "af919694",
   "metadata": {
    "papermill": {
     "duration": 0.028691,
     "end_time": "2022-02-11T08:15:27.293330",
     "exception": false,
     "start_time": "2022-02-11T08:15:27.264639",
     "status": "completed"
    },
    "tags": []
   },
   "source": [
    "The dataset has 0 null values."
   ]
  },
  {
   "cell_type": "markdown",
   "id": "88652ec6",
   "metadata": {
    "papermill": {
     "duration": 0.028511,
     "end_time": "2022-02-11T08:15:27.350999",
     "exception": false,
     "start_time": "2022-02-11T08:15:27.322488",
     "status": "completed"
    },
    "tags": []
   },
   "source": [
    "# Feature Visualization"
   ]
  },
  {
   "cell_type": "code",
   "execution_count": 8,
   "id": "66dd1925",
   "metadata": {
    "execution": {
     "iopub.execute_input": "2022-02-11T08:15:27.411827Z",
     "iopub.status.busy": "2022-02-11T08:15:27.411245Z",
     "iopub.status.idle": "2022-02-11T08:15:27.614223Z",
     "shell.execute_reply": "2022-02-11T08:15:27.614655Z",
     "shell.execute_reply.started": "2022-02-11T06:42:03.808587Z"
    },
    "papermill": {
     "duration": 0.234668,
     "end_time": "2022-02-11T08:15:27.614826",
     "exception": false,
     "start_time": "2022-02-11T08:15:27.380158",
     "status": "completed"
    },
    "tags": []
   },
   "outputs": [
    {
     "data": {
      "text/plain": [
       "<AxesSubplot:xlabel='Exited', ylabel='count'>"
      ]
     },
     "execution_count": 8,
     "metadata": {},
     "output_type": "execute_result"
    },
    {
     "data": {
      "image/png": "[encoded data removed]",
      "text/plain": [
       "<Figure size 432x288 with 1 Axes>"
      ]
     },
     "metadata": {
      "needs_background": "light"
     },
     "output_type": "display_data"
    }
   ],
   "source": [
    "sns.countplot(x=df.Exited,data=df)"
   ]
  },
  {
   "cell_type": "markdown",
   "id": "329315a5",
   "metadata": {
    "papermill": {
     "duration": 0.02987,
     "end_time": "2022-02-11T08:15:27.675321",
     "exception": false,
     "start_time": "2022-02-11T08:15:27.645451",
     "status": "completed"
    },
    "tags": []
   },
   "source": [
    "1 means person has exited from the company."
   ]
  },
  {
   "cell_type": "code",
   "execution_count": 9,
   "id": "38c078ce",
   "metadata": {
    "execution": {
     "iopub.execute_input": "2022-02-11T08:15:27.739221Z",
     "iopub.status.busy": "2022-02-11T08:15:27.738326Z",
     "iopub.status.idle": "2022-02-11T08:15:28.121217Z",
     "shell.execute_reply": "2022-02-11T08:15:28.120726Z",
     "shell.execute_reply.started": "2022-02-11T06:48:13.791376Z"
    },
    "papermill": {
     "duration": 0.415885,
     "end_time": "2022-02-11T08:15:28.121352",
     "exception": false,
     "start_time": "2022-02-11T08:15:27.705467",
     "status": "completed"
    },
    "tags": []
   },
   "outputs": [
    {
     "data": {
      "text/plain": [
       "<AxesSubplot:xlabel='CreditScore', ylabel='Count'>"
      ]
     },
     "execution_count": 9,
     "metadata": {},
     "output_type": "execute_result"
    },
    {
     "data": {
      "image/png": "[encoded data removed]",
      "text/plain": [
       "<Figure size 432x288 with 1 Axes>"
      ]
     },
     "metadata": {
      "needs_background": "light"
     },
     "output_type": "display_data"
    }
   ],
   "source": [
    "sns.histplot(x=df.CreditScore,data=df,hue=df.Exited)"
   ]
  },
  {
   "cell_type": "code",
   "execution_count": 10,
   "id": "6ae61ace",
   "metadata": {
    "execution": {
     "iopub.execute_input": "2022-02-11T08:15:28.187197Z",
     "iopub.status.busy": "2022-02-11T08:15:28.186287Z",
     "iopub.status.idle": "2022-02-11T08:15:28.428667Z",
     "shell.execute_reply": "2022-02-11T08:15:28.428229Z",
     "shell.execute_reply.started": "2022-02-11T06:49:18.425586Z"
    },
    "papermill": {
     "duration": 0.275906,
     "end_time": "2022-02-11T08:15:28.428801",
     "exception": false,
     "start_time": "2022-02-11T08:15:28.152895",
     "status": "completed"
    },
    "tags": []
   },
   "outputs": [
    {
     "data": {
      "text/plain": [
       "<AxesSubplot:xlabel='Tenure', ylabel='count'>"
      ]
     },
     "execution_count": 10,
     "metadata": {},
     "output_type": "execute_result"
    },
    {
     "data": {
      "image/png": "[encoded data removed]",
      "text/plain": [
       "<Figure size 432x288 with 1 Axes>"
      ]
     },
     "metadata": {
      "needs_background": "light"
     },
     "output_type": "display_data"
    }
   ],
   "source": [
    "sns.countplot(x=df.Tenure,data=df,hue=df.Exited)"
   ]
  },
  {
   "cell_type": "code",
   "execution_count": 11,
   "id": "b7be8850",
   "metadata": {
    "execution": {
     "iopub.execute_input": "2022-02-11T08:15:28.496769Z",
     "iopub.status.busy": "2022-02-11T08:15:28.495849Z",
     "iopub.status.idle": "2022-02-11T08:15:28.671177Z",
     "shell.execute_reply": "2022-02-11T08:15:28.671629Z",
     "shell.execute_reply.started": "2022-02-11T06:50:00.726377Z"
    },
    "papermill": {
     "duration": 0.211028,
     "end_time": "2022-02-11T08:15:28.671790",
     "exception": false,
     "start_time": "2022-02-11T08:15:28.460762",
     "status": "completed"
    },
    "tags": []
   },
   "outputs": [
    {
     "data": {
      "text/plain": [
       "<AxesSubplot:xlabel='NumOfProducts', ylabel='count'>"
      ]
     },
     "execution_count": 11,
     "metadata": {},
     "output_type": "execute_result"
    },
    {
     "data": {
      "image/png": "[encoded data removed]",
      "text/plain": [
       "<Figure size 432x288 with 1 Axes>"
      ]
     },
     "metadata": {
      "needs_background": "light"
     },
     "output_type": "display_data"
    }
   ],
   "source": [
    "sns.countplot(x=df.NumOfProducts,data=df,hue=df.Exited)"
   ]
  },
  {
   "cell_type": "markdown",
   "id": "82c909dd",
   "metadata": {
    "papermill": {
     "duration": 0.033182,
     "end_time": "2022-02-11T08:15:28.737811",
     "exception": false,
     "start_time": "2022-02-11T08:15:28.704629",
     "status": "completed"
    },
    "tags": []
   },
   "source": [
    "# Data Preprocessing"
   ]
  },
  {
   "cell_type": "markdown",
   "id": "184f5603",
   "metadata": {
    "papermill": {
     "duration": 0.032911,
     "end_time": "2022-02-11T08:15:28.803924",
     "exception": false,
     "start_time": "2022-02-11T08:15:28.771013",
     "status": "completed"
    },
    "tags": []
   },
   "source": [
    "Deleting unwanted columns"
   ]
  },
  {
   "cell_type": "code",
   "execution_count": 12,
   "id": "5555fc0b",
   "metadata": {
    "execution": {
     "iopub.execute_input": "2022-02-11T08:15:28.874462Z",
     "iopub.status.busy": "2022-02-11T08:15:28.873562Z",
     "iopub.status.idle": "2022-02-11T08:15:28.878725Z",
     "shell.execute_reply": "2022-02-11T08:15:28.879288Z",
     "shell.execute_reply.started": "2022-02-11T06:54:38.975945Z"
    },
    "papermill": {
     "duration": 0.042097,
     "end_time": "2022-02-11T08:15:28.879452",
     "exception": false,
     "start_time": "2022-02-11T08:15:28.837355",
     "status": "completed"
    },
    "tags": []
   },
   "outputs": [],
   "source": [
    "df.drop(['CustomerId','RowNumber','Surname'],axis=1,inplace=True)"
   ]
  },
  {
   "cell_type": "markdown",
   "id": "41f67221",
   "metadata": {
    "papermill": {
     "duration": 0.033508,
     "end_time": "2022-02-11T08:15:28.945915",
     "exception": false,
     "start_time": "2022-02-11T08:15:28.912407",
     "status": "completed"
    },
    "tags": []
   },
   "source": [
    "Scaling the data so that training of the model is easy"
   ]
  },
  {
   "cell_type": "code",
   "execution_count": 13,
   "id": "0698004d",
   "metadata": {
    "execution": {
     "iopub.execute_input": "2022-02-11T08:15:29.017628Z",
     "iopub.status.busy": "2022-02-11T08:15:29.016711Z",
     "iopub.status.idle": "2022-02-11T08:15:29.139248Z",
     "shell.execute_reply": "2022-02-11T08:15:29.138688Z",
     "shell.execute_reply.started": "2022-02-11T06:58:46.755718Z"
    },
    "papermill": {
     "duration": 0.159398,
     "end_time": "2022-02-11T08:15:29.139392",
     "exception": false,
     "start_time": "2022-02-11T08:15:28.979994",
     "status": "completed"
    },
    "tags": []
   },
   "outputs": [],
   "source": [
    "from sklearn.preprocessing import MinMaxScaler\n",
    "\n",
    "cols_to_scaled = [\"CreditScore\",\"Age\",\"Tenure\",\"NumOfProducts\",\"EstimatedSalary\",\"Balance\"]\n",
    "scaler=MinMaxScaler()\n",
    "df[cols_to_scaled]=scaler.fit_transform(df[cols_to_scaled])"
   ]
  },
  {
   "cell_type": "code",
   "execution_count": 14,
   "id": "a5ea3a9b",
   "metadata": {
    "execution": {
     "iopub.execute_input": "2022-02-11T08:15:29.212444Z",
     "iopub.status.busy": "2022-02-11T08:15:29.211460Z",
     "iopub.status.idle": "2022-02-11T08:15:29.235118Z",
     "shell.execute_reply": "2022-02-11T08:15:29.235688Z",
     "shell.execute_reply.started": "2022-02-11T06:58:59.421897Z"
    },
    "papermill": {
     "duration": 0.06176,
     "end_time": "2022-02-11T08:15:29.235869",
     "exception": false,
     "start_time": "2022-02-11T08:15:29.174109",
     "status": "completed"
    },
    "tags": []
   },
   "outputs": [
    {
     "name": "stdout",
     "output_type": "stream",
     "text": [
      "CreditScore : [0.538 0.516 0.304 0.698 1.    0.59  0.944 0.052 0.302 0.668 0.356 0.294\n",
      " 0.252 0.398 0.57  0.532 0.606 0.474 0.752 0.764 0.572 0.32  0.638 0.992\n",
      " 0.454 0.812 0.442 0.448 0.122 0.482 0.366 0.406 0.34  0.744 0.25  0.28\n",
      " 0.908 0.464 0.244 0.23  0.412 0.968 0.62  0.852 0.958 0.574 0.4   0.696\n",
      " 0.47  0.876 0.61  0.502 0.612 0.75  0.322 0.528 0.784 0.674 0.41  0.506\n",
      " 0.802 0.462 0.77  0.622 0.65  0.776 0.926 0.614 0.508 0.338 0.628 0.656\n",
      " 0.814 0.132 0.63  0.854 0.386 0.312 0.286 0.604 0.8   0.758 0.592 0.594\n",
      " 0.916 0.348 0.838 0.76  0.33  0.846 0.928 0.72  0.126 0.546 0.64  0.544\n",
      " 0.87  0.51  0.258 0.67  0.376 0.424 0.742 0.556 0.636 0.956 0.648 0.55\n",
      " 0.164 0.84  0.816 0.89  0.672 0.878 0.478 0.222 0.468 0.458 0.626 0.664\n",
      " 0.886 0.682 0.27  0.6   0.808 0.37  0.732 0.378 0.712 0.472 0.562 0.734\n",
      " 0.9   0.666 0.708 0.53  0.634 0.268 0.26  0.456 0.324 0.512 0.494 0.856\n",
      " 0.328 0.35  0.73  0.46  0.914 0.342 0.818 0.332 0.722 0.536 0.586 0.642\n",
      " 0.678 0.54  0.652 0.444 0.69  0.484 0.434 0.688 0.394 0.488 0.646 0.52\n",
      " 0.834 0.826 0.724 0.706 0.624 0.618 0.346 0.844 0.39  0.568 0.778 0.842\n",
      " 0.662 0.388 0.692 0.832 0.754 0.686 0.414 0.362 0.296 0.602 0.882 0.766\n",
      " 0.922 0.714 0.728 0.864 0.85  0.898 0.504 0.788 0.476 0.794 0.466 0.554\n",
      " 0.762 0.558 0.176 0.584 0.912 0.248 0.418 0.158 0.66  0.798 0.768 0.588\n",
      " 0.552 0.598 0.91  0.736 0.98  0.56  0.608 0.824 0.436 0.526 0.344 0.774\n",
      " 0.596 0.186 0.58  0.38  0.22  0.486 0.902 0.522 0.904 0.79  0.266 0.68\n",
      " 0.284 0.718 0.71  0.42  0.804 0.702 0.374 0.274 0.492 0.704 0.272 0.748\n",
      " 0.396 0.228 0.88  0.368 0.796 0.288 0.48  0.236 0.318 0.936 0.932 0.372\n",
      " 0.806 0.848 0.542 0.438 0.616 0.896 0.582 0.384 0.684 0.578 0.83  0.44\n",
      " 0.576 0.498 0.564 0.858 0.354 0.428 0.966 0.308 0.984 0.316 0.134 0.496\n",
      " 0.782 0.514 0.822 0.996 0.392 0.178 0.81  0.82  0.352 0.726 0.7   0.632\n",
      " 0.432 0.29  0.676 0.524 0.254 0.154 0.978 0.938 0.74  0.218 0.306 0.548\n",
      " 0.358 0.426 0.264 0.892 0.19  0.792 0.872 0.408 0.644 0.874 0.298 0.988\n",
      " 0.2   0.93  0.976 0.906 0.772 0.566 0.5   0.658 0.334 0.884 0.786 0.276\n",
      " 0.142 0.982 0.716 0.314 0.31  0.212 0.17  0.422 0.336 0.43  0.756 0.868\n",
      " 0.404 0.518 0.828 0.694 0.746 0.402 0.188 0.738 0.292 0.382 0.96  0.924\n",
      " 0.654 0.14  0.49  0.534 0.918 0.3   0.952 0.168 0.326 0.256 0.894 0.026\n",
      " 0.098 0.226 0.86  0.204 0.45  0.974 0.888 0.948 0.156 0.946 0.862 0.998\n",
      " 0.278 0.162 0.214 0.836 0.962 0.018 0.94  0.446 0.452 0.416 0.934 0.198\n",
      " 0.18  0.13  0.942 0.36  0.    0.192 0.15  0.78  0.262 0.866 0.016 0.99\n",
      " 0.202 0.216 0.238 0.146 0.108 0.972 0.246 0.97  0.232 0.282 0.002 0.954\n",
      " 0.986 0.03  0.364 0.128 0.206 0.242 0.102 0.92  0.964 0.24  0.194 0.144\n",
      " 0.95  0.16  0.172 0.152 0.116 0.994 0.136 0.174 0.12  0.208 0.114 0.21\n",
      " 0.224 0.072 0.11  0.066 0.09  0.234 0.166 0.184 0.148 0.196 0.182 0.034\n",
      " 0.124 0.064 0.046 0.138]\n",
      "Geography : ['France' 'Spain' 'Germany']\n",
      "Gender : ['Female' 'Male']\n",
      "Age : [0.32432432 0.31081081 0.28378378 0.33783784 0.35135135 0.43243243\n",
      " 0.14864865 0.12162162 0.17567568 0.08108108 0.21621622 0.09459459\n",
      " 0.22972973 0.36486486 0.54054054 0.18918919 0.27027027 0.37837838\n",
      " 0.24324324 0.2027027  0.2972973  0.44594595 0.58108108 0.41891892\n",
      " 0.25675676 0.01351351 0.64864865 0.51351351 0.10810811 0.04054054\n",
      " 0.5        0.77027027 0.05405405 0.16216216 0.13513514 0.63513514\n",
      " 0.40540541 0.45945946 0.52702703 0.74324324 0.39189189 0.48648649\n",
      " 0.72972973 0.02702703 0.66216216 0.82432432 0.59459459 0.47297297\n",
      " 0.83783784 0.55405405 0.67567568 0.06756757 0.56756757 0.7027027\n",
      " 0.60810811 0.62162162 0.         0.86486486 0.68918919 0.75675676\n",
      " 0.71621622 0.78378378 0.7972973  0.94594595 0.90540541 0.89189189\n",
      " 0.81081081 0.85135135 1.         0.87837838]\n",
      "Tenure : [0.2 0.1 0.8 0.7 0.4 0.6 0.3 1.  0.5 0.9 0. ]\n",
      "Balance : [0.         0.33403148 0.63635718 ... 0.22865702 0.29922631 0.51870777]\n",
      "NumOfProducts : [0.         0.66666667 0.33333333 1.        ]\n",
      "HasCrCard : [1 0]\n",
      "IsActiveMember : [1 0]\n",
      "EstimatedSalary : [0.50673489 0.56270874 0.56965435 ... 0.21039009 0.46442905 0.19091423]\n",
      "Exited : [1 0]\n"
     ]
    }
   ],
   "source": [
    "for col in df.columns:\n",
    "    print(col,\":\",df[col].unique())"
   ]
  },
  {
   "cell_type": "code",
   "execution_count": 15,
   "id": "5f5beb8e",
   "metadata": {
    "execution": {
     "iopub.execute_input": "2022-02-11T08:15:29.308174Z",
     "iopub.status.busy": "2022-02-11T08:15:29.307576Z",
     "iopub.status.idle": "2022-02-11T08:15:29.317319Z",
     "shell.execute_reply": "2022-02-11T08:15:29.317829Z",
     "shell.execute_reply.started": "2022-02-11T07:00:27.799946Z"
    },
    "papermill": {
     "duration": 0.047344,
     "end_time": "2022-02-11T08:15:29.317991",
     "exception": false,
     "start_time": "2022-02-11T08:15:29.270647",
     "status": "completed"
    },
    "tags": []
   },
   "outputs": [
    {
     "data": {
      "text/plain": [
       "0    5457\n",
       "1    4543\n",
       "Name: Gender, dtype: int64"
      ]
     },
     "execution_count": 15,
     "metadata": {},
     "output_type": "execute_result"
    }
   ],
   "source": [
    "df['Gender'].replace({'Female':1,'Male':0},inplace=True)\n",
    "df.Gender.value_counts()"
   ]
  },
  {
   "cell_type": "markdown",
   "id": "c91226ee",
   "metadata": {
    "papermill": {
     "duration": 0.034086,
     "end_time": "2022-02-11T08:15:29.385623",
     "exception": false,
     "start_time": "2022-02-11T08:15:29.351537",
     "status": "completed"
    },
    "tags": []
   },
   "source": [
    "One hot encoding for categorical column"
   ]
  },
  {
   "cell_type": "code",
   "execution_count": 16,
   "id": "bf4dbed2",
   "metadata": {
    "execution": {
     "iopub.execute_input": "2022-02-11T08:15:29.455906Z",
     "iopub.status.busy": "2022-02-11T08:15:29.455328Z",
     "iopub.status.idle": "2022-02-11T08:15:29.473907Z",
     "shell.execute_reply": "2022-02-11T08:15:29.474438Z",
     "shell.execute_reply.started": "2022-02-11T07:02:12.657093Z"
    },
    "papermill": {
     "duration": 0.055093,
     "end_time": "2022-02-11T08:15:29.474605",
     "exception": false,
     "start_time": "2022-02-11T08:15:29.419512",
     "status": "completed"
    },
    "tags": []
   },
   "outputs": [
    {
     "data": {
      "text/html": [
       "<div>\n",
       "<style scoped>\n",
       "    .dataframe tbody tr th:only-of-type {\n",
       "        vertical-align: middle;\n",
       "    }\n",
       "\n",
       "    .dataframe tbody tr th {\n",
       "        vertical-align: top;\n",
       "    }\n",
       "\n",
       "    .dataframe thead th {\n",
       "        text-align: right;\n",
       "    }\n",
       "</style>\n",
       "<table border=\"1\" class=\"dataframe\">\n",
       "  <thead>\n",
       "    <tr style=\"text-align: right;\">\n",
       "      <th></th>\n",
       "      <th>CreditScore</th>\n",
       "      <th>Gender</th>\n",
       "      <th>Age</th>\n",
       "      <th>Tenure</th>\n",
       "      <th>Balance</th>\n",
       "      <th>NumOfProducts</th>\n",
       "      <th>HasCrCard</th>\n",
       "      <th>IsActiveMember</th>\n",
       "      <th>EstimatedSalary</th>\n",
       "      <th>Exited</th>\n",
       "      <th>Geography_France</th>\n",
       "      <th>Geography_Germany</th>\n",
       "      <th>Geography_Spain</th>\n",
       "    </tr>\n",
       "  </thead>\n",
       "  <tbody>\n",
       "    <tr>\n",
       "      <th>0</th>\n",
       "      <td>0.538</td>\n",
       "      <td>1</td>\n",
       "      <td>0.324324</td>\n",
       "      <td>0.2</td>\n",
       "      <td>0.000000</td>\n",
       "      <td>0.000000</td>\n",
       "      <td>1</td>\n",
       "      <td>1</td>\n",
       "      <td>0.506735</td>\n",
       "      <td>1</td>\n",
       "      <td>1</td>\n",
       "      <td>0</td>\n",
       "      <td>0</td>\n",
       "    </tr>\n",
       "    <tr>\n",
       "      <th>1</th>\n",
       "      <td>0.516</td>\n",
       "      <td>1</td>\n",
       "      <td>0.310811</td>\n",
       "      <td>0.1</td>\n",
       "      <td>0.334031</td>\n",
       "      <td>0.000000</td>\n",
       "      <td>0</td>\n",
       "      <td>1</td>\n",
       "      <td>0.562709</td>\n",
       "      <td>0</td>\n",
       "      <td>0</td>\n",
       "      <td>0</td>\n",
       "      <td>1</td>\n",
       "    </tr>\n",
       "    <tr>\n",
       "      <th>2</th>\n",
       "      <td>0.304</td>\n",
       "      <td>1</td>\n",
       "      <td>0.324324</td>\n",
       "      <td>0.8</td>\n",
       "      <td>0.636357</td>\n",
       "      <td>0.666667</td>\n",
       "      <td>1</td>\n",
       "      <td>0</td>\n",
       "      <td>0.569654</td>\n",
       "      <td>1</td>\n",
       "      <td>1</td>\n",
       "      <td>0</td>\n",
       "      <td>0</td>\n",
       "    </tr>\n",
       "  </tbody>\n",
       "</table>\n",
       "</div>"
      ],
      "text/plain": [
       "   CreditScore  Gender       Age  Tenure   Balance  NumOfProducts  HasCrCard  \\\n",
       "0        0.538       1  0.324324     0.2  0.000000       0.000000          1   \n",
       "1        0.516       1  0.310811     0.1  0.334031       0.000000          0   \n",
       "2        0.304       1  0.324324     0.8  0.636357       0.666667          1   \n",
       "\n",
       "   IsActiveMember  EstimatedSalary  Exited  Geography_France  \\\n",
       "0               1         0.506735       1                 1   \n",
       "1               1         0.562709       0                 0   \n",
       "2               0         0.569654       1                 1   \n",
       "\n",
       "   Geography_Germany  Geography_Spain  \n",
       "0                  0                0  \n",
       "1                  0                1  \n",
       "2                  0                0  "
      ]
     },
     "execution_count": 16,
     "metadata": {},
     "output_type": "execute_result"
    }
   ],
   "source": [
    "df=pd.get_dummies(data=df)\n",
    "df.head(3)"
   ]
  },
  {
   "cell_type": "code",
   "execution_count": 17,
   "id": "69aa1e2e",
   "metadata": {
    "execution": {
     "iopub.execute_input": "2022-02-11T08:15:29.545516Z",
     "iopub.status.busy": "2022-02-11T08:15:29.544807Z",
     "iopub.status.idle": "2022-02-11T08:15:29.565111Z",
     "shell.execute_reply": "2022-02-11T08:15:29.565893Z",
     "shell.execute_reply.started": "2022-02-11T07:02:43.884345Z"
    },
    "papermill": {
     "duration": 0.057284,
     "end_time": "2022-02-11T08:15:29.566089",
     "exception": false,
     "start_time": "2022-02-11T08:15:29.508805",
     "status": "completed"
    },
    "tags": []
   },
   "outputs": [
    {
     "name": "stdout",
     "output_type": "stream",
     "text": [
      "CreditScore : [0.538 0.516 0.304 0.698 1.    0.59  0.944 0.052 0.302 0.668 0.356 0.294\n",
      " 0.252 0.398 0.57  0.532 0.606 0.474 0.752 0.764 0.572 0.32  0.638 0.992\n",
      " 0.454 0.812 0.442 0.448 0.122 0.482 0.366 0.406 0.34  0.744 0.25  0.28\n",
      " 0.908 0.464 0.244 0.23  0.412 0.968 0.62  0.852 0.958 0.574 0.4   0.696\n",
      " 0.47  0.876 0.61  0.502 0.612 0.75  0.322 0.528 0.784 0.674 0.41  0.506\n",
      " 0.802 0.462 0.77  0.622 0.65  0.776 0.926 0.614 0.508 0.338 0.628 0.656\n",
      " 0.814 0.132 0.63  0.854 0.386 0.312 0.286 0.604 0.8   0.758 0.592 0.594\n",
      " 0.916 0.348 0.838 0.76  0.33  0.846 0.928 0.72  0.126 0.546 0.64  0.544\n",
      " 0.87  0.51  0.258 0.67  0.376 0.424 0.742 0.556 0.636 0.956 0.648 0.55\n",
      " 0.164 0.84  0.816 0.89  0.672 0.878 0.478 0.222 0.468 0.458 0.626 0.664\n",
      " 0.886 0.682 0.27  0.6   0.808 0.37  0.732 0.378 0.712 0.472 0.562 0.734\n",
      " 0.9   0.666 0.708 0.53  0.634 0.268 0.26  0.456 0.324 0.512 0.494 0.856\n",
      " 0.328 0.35  0.73  0.46  0.914 0.342 0.818 0.332 0.722 0.536 0.586 0.642\n",
      " 0.678 0.54  0.652 0.444 0.69  0.484 0.434 0.688 0.394 0.488 0.646 0.52\n",
      " 0.834 0.826 0.724 0.706 0.624 0.618 0.346 0.844 0.39  0.568 0.778 0.842\n",
      " 0.662 0.388 0.692 0.832 0.754 0.686 0.414 0.362 0.296 0.602 0.882 0.766\n",
      " 0.922 0.714 0.728 0.864 0.85  0.898 0.504 0.788 0.476 0.794 0.466 0.554\n",
      " 0.762 0.558 0.176 0.584 0.912 0.248 0.418 0.158 0.66  0.798 0.768 0.588\n",
      " 0.552 0.598 0.91  0.736 0.98  0.56  0.608 0.824 0.436 0.526 0.344 0.774\n",
      " 0.596 0.186 0.58  0.38  0.22  0.486 0.902 0.522 0.904 0.79  0.266 0.68\n",
      " 0.284 0.718 0.71  0.42  0.804 0.702 0.374 0.274 0.492 0.704 0.272 0.748\n",
      " 0.396 0.228 0.88  0.368 0.796 0.288 0.48  0.236 0.318 0.936 0.932 0.372\n",
      " 0.806 0.848 0.542 0.438 0.616 0.896 0.582 0.384 0.684 0.578 0.83  0.44\n",
      " 0.576 0.498 0.564 0.858 0.354 0.428 0.966 0.308 0.984 0.316 0.134 0.496\n",
      " 0.782 0.514 0.822 0.996 0.392 0.178 0.81  0.82  0.352 0.726 0.7   0.632\n",
      " 0.432 0.29  0.676 0.524 0.254 0.154 0.978 0.938 0.74  0.218 0.306 0.548\n",
      " 0.358 0.426 0.264 0.892 0.19  0.792 0.872 0.408 0.644 0.874 0.298 0.988\n",
      " 0.2   0.93  0.976 0.906 0.772 0.566 0.5   0.658 0.334 0.884 0.786 0.276\n",
      " 0.142 0.982 0.716 0.314 0.31  0.212 0.17  0.422 0.336 0.43  0.756 0.868\n",
      " 0.404 0.518 0.828 0.694 0.746 0.402 0.188 0.738 0.292 0.382 0.96  0.924\n",
      " 0.654 0.14  0.49  0.534 0.918 0.3   0.952 0.168 0.326 0.256 0.894 0.026\n",
      " 0.098 0.226 0.86  0.204 0.45  0.974 0.888 0.948 0.156 0.946 0.862 0.998\n",
      " 0.278 0.162 0.214 0.836 0.962 0.018 0.94  0.446 0.452 0.416 0.934 0.198\n",
      " 0.18  0.13  0.942 0.36  0.    0.192 0.15  0.78  0.262 0.866 0.016 0.99\n",
      " 0.202 0.216 0.238 0.146 0.108 0.972 0.246 0.97  0.232 0.282 0.002 0.954\n",
      " 0.986 0.03  0.364 0.128 0.206 0.242 0.102 0.92  0.964 0.24  0.194 0.144\n",
      " 0.95  0.16  0.172 0.152 0.116 0.994 0.136 0.174 0.12  0.208 0.114 0.21\n",
      " 0.224 0.072 0.11  0.066 0.09  0.234 0.166 0.184 0.148 0.196 0.182 0.034\n",
      " 0.124 0.064 0.046 0.138]\n",
      "Gender : [1 0]\n",
      "Age : [0.32432432 0.31081081 0.28378378 0.33783784 0.35135135 0.43243243\n",
      " 0.14864865 0.12162162 0.17567568 0.08108108 0.21621622 0.09459459\n",
      " 0.22972973 0.36486486 0.54054054 0.18918919 0.27027027 0.37837838\n",
      " 0.24324324 0.2027027  0.2972973  0.44594595 0.58108108 0.41891892\n",
      " 0.25675676 0.01351351 0.64864865 0.51351351 0.10810811 0.04054054\n",
      " 0.5        0.77027027 0.05405405 0.16216216 0.13513514 0.63513514\n",
      " 0.40540541 0.45945946 0.52702703 0.74324324 0.39189189 0.48648649\n",
      " 0.72972973 0.02702703 0.66216216 0.82432432 0.59459459 0.47297297\n",
      " 0.83783784 0.55405405 0.67567568 0.06756757 0.56756757 0.7027027\n",
      " 0.60810811 0.62162162 0.         0.86486486 0.68918919 0.75675676\n",
      " 0.71621622 0.78378378 0.7972973  0.94594595 0.90540541 0.89189189\n",
      " 0.81081081 0.85135135 1.         0.87837838]\n",
      "Tenure : [0.2 0.1 0.8 0.7 0.4 0.6 0.3 1.  0.5 0.9 0. ]\n",
      "Balance : [0.         0.33403148 0.63635718 ... 0.22865702 0.29922631 0.51870777]\n",
      "NumOfProducts : [0.         0.66666667 0.33333333 1.        ]\n",
      "HasCrCard : [1 0]\n",
      "IsActiveMember : [1 0]\n",
      "EstimatedSalary : [0.50673489 0.56270874 0.56965435 ... 0.21039009 0.46442905 0.19091423]\n",
      "Exited : [1 0]\n",
      "Geography_France : [1 0]\n",
      "Geography_Germany : [0 1]\n",
      "Geography_Spain : [0 1]\n"
     ]
    }
   ],
   "source": [
    "for col in df.columns:\n",
    "    print(col,\":\",df[col].unique())"
   ]
  },
  {
   "cell_type": "markdown",
   "id": "79f7c761",
   "metadata": {
    "papermill": {
     "duration": 0.034858,
     "end_time": "2022-02-11T08:15:29.636874",
     "exception": false,
     "start_time": "2022-02-11T08:15:29.602016",
     "status": "completed"
    },
    "tags": []
   },
   "source": [
    "# Train test split"
   ]
  },
  {
   "cell_type": "code",
   "execution_count": 18,
   "id": "fa001274",
   "metadata": {
    "execution": {
     "iopub.execute_input": "2022-02-11T08:15:29.711579Z",
     "iopub.status.busy": "2022-02-11T08:15:29.710956Z",
     "iopub.status.idle": "2022-02-11T08:15:29.761229Z",
     "shell.execute_reply": "2022-02-11T08:15:29.761713Z",
     "shell.execute_reply.started": "2022-02-11T07:07:21.750988Z"
    },
    "papermill": {
     "duration": 0.090219,
     "end_time": "2022-02-11T08:15:29.761879",
     "exception": false,
     "start_time": "2022-02-11T08:15:29.671660",
     "status": "completed"
    },
    "tags": []
   },
   "outputs": [],
   "source": [
    "from sklearn.model_selection import train_test_split\n",
    "x=df.drop('Exited',axis=1)\n",
    "y=df.Exited\n",
    "x_train,x_test,y_train,y_test = train_test_split(x,y,test_size=0.2,random_state=2)"
   ]
  },
  {
   "cell_type": "code",
   "execution_count": 19,
   "id": "c4b9a8bd",
   "metadata": {
    "execution": {
     "iopub.execute_input": "2022-02-11T08:15:29.834757Z",
     "iopub.status.busy": "2022-02-11T08:15:29.834220Z",
     "iopub.status.idle": "2022-02-11T08:15:29.838605Z",
     "shell.execute_reply": "2022-02-11T08:15:29.839124Z",
     "shell.execute_reply.started": "2022-02-11T07:07:34.662945Z"
    },
    "papermill": {
     "duration": 0.042482,
     "end_time": "2022-02-11T08:15:29.839301",
     "exception": false,
     "start_time": "2022-02-11T08:15:29.796819",
     "status": "completed"
    },
    "tags": []
   },
   "outputs": [
    {
     "data": {
      "text/plain": [
       "(8000, 12)"
      ]
     },
     "execution_count": 19,
     "metadata": {},
     "output_type": "execute_result"
    }
   ],
   "source": [
    "x_train.shape"
   ]
  },
  {
   "cell_type": "code",
   "execution_count": 20,
   "id": "58181fdf",
   "metadata": {
    "execution": {
     "iopub.execute_input": "2022-02-11T08:15:29.914666Z",
     "iopub.status.busy": "2022-02-11T08:15:29.913931Z",
     "iopub.status.idle": "2022-02-11T08:15:29.916334Z",
     "shell.execute_reply": "2022-02-11T08:15:29.916751Z",
     "shell.execute_reply.started": "2022-02-11T07:07:41.023620Z"
    },
    "papermill": {
     "duration": 0.041995,
     "end_time": "2022-02-11T08:15:29.916915",
     "exception": false,
     "start_time": "2022-02-11T08:15:29.874920",
     "status": "completed"
    },
    "tags": []
   },
   "outputs": [
    {
     "data": {
      "text/plain": [
       "(2000, 12)"
      ]
     },
     "execution_count": 20,
     "metadata": {},
     "output_type": "execute_result"
    }
   ],
   "source": [
    "x_test.shape"
   ]
  },
  {
   "cell_type": "markdown",
   "id": "05c1abb7",
   "metadata": {
    "papermill": {
     "duration": 0.035288,
     "end_time": "2022-02-11T08:15:29.987425",
     "exception": false,
     "start_time": "2022-02-11T08:15:29.952137",
     "status": "completed"
    },
    "tags": []
   },
   "source": [
    "# ANN Model Building"
   ]
  },
  {
   "cell_type": "code",
   "execution_count": 21,
   "id": "678c33d5",
   "metadata": {
    "execution": {
     "iopub.execute_input": "2022-02-11T08:15:30.062924Z",
     "iopub.status.busy": "2022-02-11T08:15:30.062214Z",
     "iopub.status.idle": "2022-02-11T08:15:40.660521Z",
     "shell.execute_reply": "2022-02-11T08:15:40.659945Z",
     "shell.execute_reply.started": "2022-02-11T07:17:29.091815Z"
    },
    "papermill": {
     "duration": 10.638009,
     "end_time": "2022-02-11T08:15:40.660673",
     "exception": false,
     "start_time": "2022-02-11T08:15:30.022664",
     "status": "completed"
    },
    "tags": []
   },
   "outputs": [
    {
     "name": "stderr",
     "output_type": "stream",
     "text": [
      "2022-02-11 08:15:31.027507: I tensorflow/core/common_runtime/process_util.cc:146] Creating new thread pool with default inter op setting: 2. Tune using inter_op_parallelism_threads for best performance.\n",
      "2022-02-11 08:15:31.179177: I tensorflow/compiler/mlir/mlir_graph_optimization_pass.cc:185] None of the MLIR Optimization Passes are enabled (registered 2)\n"
     ]
    },
    {
     "name": "stdout",
     "output_type": "stream",
     "text": [
      "Epoch 1/30\n",
      "250/250 [==============================] - 1s 1ms/step - loss: 0.6236 - accuracy: 0.7400\n",
      "Epoch 2/30\n",
      "250/250 [==============================] - 0s 1ms/step - loss: 0.4997 - accuracy: 0.7933\n",
      "Epoch 3/30\n",
      "250/250 [==============================] - 0s 1ms/step - loss: 0.4682 - accuracy: 0.7995\n",
      "Epoch 4/30\n",
      "250/250 [==============================] - 0s 1ms/step - loss: 0.4548 - accuracy: 0.8008\n",
      "Epoch 5/30\n",
      "250/250 [==============================] - 0s 1ms/step - loss: 0.4444 - accuracy: 0.8054\n",
      "Epoch 6/30\n",
      "250/250 [==============================] - 0s 1ms/step - loss: 0.4364 - accuracy: 0.8089\n",
      "Epoch 7/30\n",
      "250/250 [==============================] - 0s 1ms/step - loss: 0.4307 - accuracy: 0.8095\n",
      "Epoch 8/30\n",
      "250/250 [==============================] - 0s 1ms/step - loss: 0.4248 - accuracy: 0.8100\n",
      "Epoch 9/30\n",
      "250/250 [==============================] - 0s 1ms/step - loss: 0.4189 - accuracy: 0.8121\n",
      "Epoch 10/30\n",
      "250/250 [==============================] - 0s 1ms/step - loss: 0.4119 - accuracy: 0.8163\n",
      "Epoch 11/30\n",
      "250/250 [==============================] - 0s 1ms/step - loss: 0.4033 - accuracy: 0.8205\n",
      "Epoch 12/30\n",
      "250/250 [==============================] - 0s 1ms/step - loss: 0.3965 - accuracy: 0.8225\n",
      "Epoch 13/30\n",
      "250/250 [==============================] - 0s 1ms/step - loss: 0.3893 - accuracy: 0.8269\n",
      "Epoch 14/30\n",
      "250/250 [==============================] - 0s 1ms/step - loss: 0.3832 - accuracy: 0.8304\n",
      "Epoch 15/30\n",
      "250/250 [==============================] - 0s 1ms/step - loss: 0.3773 - accuracy: 0.8351\n",
      "Epoch 16/30\n",
      "250/250 [==============================] - 0s 1ms/step - loss: 0.3740 - accuracy: 0.8360\n",
      "Epoch 17/30\n",
      "250/250 [==============================] - 0s 1ms/step - loss: 0.3708 - accuracy: 0.8389\n",
      "Epoch 18/30\n",
      "250/250 [==============================] - 0s 1ms/step - loss: 0.3688 - accuracy: 0.8409\n",
      "Epoch 19/30\n",
      "250/250 [==============================] - 0s 1ms/step - loss: 0.3675 - accuracy: 0.8418\n",
      "Epoch 20/30\n",
      "250/250 [==============================] - 0s 1ms/step - loss: 0.3671 - accuracy: 0.8426\n",
      "Epoch 21/30\n",
      "250/250 [==============================] - 0s 1ms/step - loss: 0.3662 - accuracy: 0.8415\n",
      "Epoch 22/30\n",
      "250/250 [==============================] - 0s 1ms/step - loss: 0.3668 - accuracy: 0.8420\n",
      "Epoch 23/30\n",
      "250/250 [==============================] - 0s 1ms/step - loss: 0.3650 - accuracy: 0.8429\n",
      "Epoch 24/30\n",
      "250/250 [==============================] - 0s 1ms/step - loss: 0.3642 - accuracy: 0.8436\n",
      "Epoch 25/30\n",
      "250/250 [==============================] - 0s 1ms/step - loss: 0.3645 - accuracy: 0.8430\n",
      "Epoch 26/30\n",
      "250/250 [==============================] - 0s 1ms/step - loss: 0.3646 - accuracy: 0.8422\n",
      "Epoch 27/30\n",
      "250/250 [==============================] - 0s 1ms/step - loss: 0.3644 - accuracy: 0.8435\n",
      "Epoch 28/30\n",
      "250/250 [==============================] - 0s 1ms/step - loss: 0.3642 - accuracy: 0.8406\n",
      "Epoch 29/30\n",
      "250/250 [==============================] - 0s 1ms/step - loss: 0.3638 - accuracy: 0.8439\n",
      "Epoch 30/30\n",
      "250/250 [==============================] - 0s 1ms/step - loss: 0.3640 - accuracy: 0.8436\n"
     ]
    },
    {
     "data": {
      "text/plain": [
       "<keras.callbacks.History at 0x7f9a95ee1690>"
      ]
     },
     "execution_count": 21,
     "metadata": {},
     "output_type": "execute_result"
    }
   ],
   "source": [
    "model = keras.Sequential([\n",
    "    keras.layers.Dense(12,input_shape=(12,),activation='relu'),\n",
    "    keras.layers.Dense(6,activation='relu'),\n",
    "    keras.layers.Dense(1,activation='sigmoid'),\n",
    "])\n",
    "\n",
    "model.compile(optimizer='adam',\n",
    "    loss='binary_crossentropy',\n",
    "    metrics=['accuracy'])\n",
    "\n",
    "model.fit(x_train,y_train,epochs=30)"
   ]
  },
  {
   "cell_type": "code",
   "execution_count": 22,
   "id": "07bdf354",
   "metadata": {
    "execution": {
     "iopub.execute_input": "2022-02-11T08:15:40.854175Z",
     "iopub.status.busy": "2022-02-11T08:15:40.853517Z",
     "iopub.status.idle": "2022-02-11T08:15:40.860334Z",
     "shell.execute_reply": "2022-02-11T08:15:40.860812Z",
     "shell.execute_reply.started": "2022-02-11T07:23:40.124568Z"
    },
    "papermill": {
     "duration": 0.106374,
     "end_time": "2022-02-11T08:15:40.860987",
     "exception": false,
     "start_time": "2022-02-11T08:15:40.754613",
     "status": "completed"
    },
    "tags": []
   },
   "outputs": [
    {
     "name": "stdout",
     "output_type": "stream",
     "text": [
      "Model: \"sequential\"\n",
      "_________________________________________________________________\n",
      "Layer (type)                 Output Shape              Param #   \n",
      "=================================================================\n",
      "dense (Dense)                (None, 12)                156       \n",
      "_________________________________________________________________\n",
      "dense_1 (Dense)              (None, 6)                 78        \n",
      "_________________________________________________________________\n",
      "dense_2 (Dense)              (None, 1)                 7         \n",
      "=================================================================\n",
      "Total params: 241\n",
      "Trainable params: 241\n",
      "Non-trainable params: 0\n",
      "_________________________________________________________________\n"
     ]
    }
   ],
   "source": [
    "model.summary()"
   ]
  },
  {
   "cell_type": "code",
   "execution_count": 23,
   "id": "8473ba47",
   "metadata": {
    "execution": {
     "iopub.execute_input": "2022-02-11T08:15:41.054287Z",
     "iopub.status.busy": "2022-02-11T08:15:41.053389Z",
     "iopub.status.idle": "2022-02-11T08:15:41.523098Z",
     "shell.execute_reply": "2022-02-11T08:15:41.522265Z",
     "shell.execute_reply.started": "2022-02-11T07:17:42.593772Z"
    },
    "papermill": {
     "duration": 0.567735,
     "end_time": "2022-02-11T08:15:41.523252",
     "exception": false,
     "start_time": "2022-02-11T08:15:40.955517",
     "status": "completed"
    },
    "tags": []
   },
   "outputs": [
    {
     "name": "stdout",
     "output_type": "stream",
     "text": [
      "63/63 [==============================] - 0s 1ms/step - loss: 0.3661 - accuracy: 0.8485\n"
     ]
    },
    {
     "data": {
      "text/plain": [
       "[0.36608973145484924, 0.8485000133514404]"
      ]
     },
     "execution_count": 23,
     "metadata": {},
     "output_type": "execute_result"
    }
   ],
   "source": [
    "model.evaluate(x_test,y_test)"
   ]
  },
  {
   "cell_type": "code",
   "execution_count": 24,
   "id": "5bf9636c",
   "metadata": {
    "execution": {
     "iopub.execute_input": "2022-02-11T08:15:41.720916Z",
     "iopub.status.busy": "2022-02-11T08:15:41.719952Z",
     "iopub.status.idle": "2022-02-11T08:15:41.912860Z",
     "shell.execute_reply": "2022-02-11T08:15:41.913312Z",
     "shell.execute_reply.started": "2022-02-11T07:19:54.555070Z"
    },
    "papermill": {
     "duration": 0.294367,
     "end_time": "2022-02-11T08:15:41.913494",
     "exception": false,
     "start_time": "2022-02-11T08:15:41.619127",
     "status": "completed"
    },
    "tags": []
   },
   "outputs": [
    {
     "data": {
      "text/plain": [
       "array([[0.10634595],\n",
       "       [0.6688366 ],\n",
       "       [0.33554736],\n",
       "       [0.02009535],\n",
       "       [0.05208185],\n",
       "       [0.00868958],\n",
       "       [0.37621707],\n",
       "       [0.02573842],\n",
       "       [0.8819016 ],\n",
       "       [0.08437294]], dtype=float32)"
      ]
     },
     "execution_count": 24,
     "metadata": {},
     "output_type": "execute_result"
    }
   ],
   "source": [
    "y_pred = model.predict(x_test)\n",
    "y_pred[:10]"
   ]
  },
  {
   "cell_type": "markdown",
   "id": "a21700bd",
   "metadata": {
    "papermill": {
     "duration": 0.095913,
     "end_time": "2022-02-11T08:15:42.105552",
     "exception": false,
     "start_time": "2022-02-11T08:15:42.009639",
     "status": "completed"
    },
    "tags": []
   },
   "source": [
    "# Performance Metrics"
   ]
  },
  {
   "cell_type": "code",
   "execution_count": 25,
   "id": "7d76cba7",
   "metadata": {
    "_kg_hide-input": true,
    "execution": {
     "iopub.execute_input": "2022-02-11T08:15:42.299614Z",
     "iopub.status.busy": "2022-02-11T08:15:42.298692Z",
     "iopub.status.idle": "2022-02-11T08:15:42.305408Z",
     "shell.execute_reply": "2022-02-11T08:15:42.305849Z",
     "shell.execute_reply.started": "2022-02-11T07:20:54.647240Z"
    },
    "papermill": {
     "duration": 0.104596,
     "end_time": "2022-02-11T08:15:42.306006",
     "exception": false,
     "start_time": "2022-02-11T08:15:42.201410",
     "status": "completed"
    },
    "tags": []
   },
   "outputs": [],
   "source": [
    "pred=[]\n",
    "for element in y_pred:\n",
    "    if element>0.5:\n",
    "        pred.append(1)\n",
    "    else:\n",
    "        pred.append(0)"
   ]
  },
  {
   "cell_type": "code",
   "execution_count": 26,
   "id": "ae358320",
   "metadata": {
    "_kg_hide-input": true,
    "execution": {
     "iopub.execute_input": "2022-02-11T08:15:42.501325Z",
     "iopub.status.busy": "2022-02-11T08:15:42.500437Z",
     "iopub.status.idle": "2022-02-11T08:15:42.507243Z",
     "shell.execute_reply": "2022-02-11T08:15:42.506636Z",
     "shell.execute_reply.started": "2022-02-11T07:34:53.331239Z"
    },
    "papermill": {
     "duration": 0.105643,
     "end_time": "2022-02-11T08:15:42.507390",
     "exception": false,
     "start_time": "2022-02-11T08:15:42.401747",
     "status": "completed"
    },
    "tags": []
   },
   "outputs": [
    {
     "name": "stdout",
     "output_type": "stream",
     "text": [
      "Test Accuracy:  84.85000000000001\n"
     ]
    }
   ],
   "source": [
    "from sklearn.metrics import accuracy_score\n",
    "print(\"Test Accuracy: \", accuracy_score(y_test, pred)*100)"
   ]
  },
  {
   "cell_type": "code",
   "execution_count": 27,
   "id": "fea46d72",
   "metadata": {
    "_kg_hide-input": true,
    "execution": {
     "iopub.execute_input": "2022-02-11T08:15:42.705609Z",
     "iopub.status.busy": "2022-02-11T08:15:42.705015Z",
     "iopub.status.idle": "2022-02-11T08:15:42.869797Z",
     "shell.execute_reply": "2022-02-11T08:15:42.870587Z",
     "shell.execute_reply.started": "2022-02-11T07:33:35.178305Z"
    },
    "papermill": {
     "duration": 0.266354,
     "end_time": "2022-02-11T08:15:42.870850",
     "exception": false,
     "start_time": "2022-02-11T08:15:42.604496",
     "status": "completed"
    },
    "tags": []
   },
   "outputs": [
    {
     "data": {
      "image/png": "[encoded data removed]",
      "text/plain": [
       "<Figure size 432x288 with 2 Axes>"
      ]
     },
     "metadata": {
      "needs_background": "light"
     },
     "output_type": "display_data"
    }
   ],
   "source": [
    "from sklearn.metrics import confusion_matrix,classification_report,roc_auc_score,roc_curve\n",
    "cm = tf.math.confusion_matrix(labels=y_test,predictions=pred)\n",
    "ax = sns.heatmap(cm,annot=True,fmt='d',cmap='icefire')\n",
    "plt.show()"
   ]
  },
  {
   "cell_type": "code",
   "execution_count": 28,
   "id": "9ebbeac2",
   "metadata": {
    "_kg_hide-input": true,
    "execution": {
     "iopub.execute_input": "2022-02-11T08:15:43.073004Z",
     "iopub.status.busy": "2022-02-11T08:15:43.072388Z",
     "iopub.status.idle": "2022-02-11T08:15:43.082568Z",
     "shell.execute_reply": "2022-02-11T08:15:43.083296Z",
     "shell.execute_reply.started": "2022-02-11T07:37:29.136702Z"
    },
    "papermill": {
     "duration": 0.110729,
     "end_time": "2022-02-11T08:15:43.083521",
     "exception": false,
     "start_time": "2022-02-11T08:15:42.972792",
     "status": "completed"
    },
    "tags": []
   },
   "outputs": [
    {
     "name": "stdout",
     "output_type": "stream",
     "text": [
      "              precision    recall  f1-score   support\n",
      "\n",
      "           0       0.87      0.96      0.91      1617\n",
      "           1       0.69      0.38      0.49       383\n",
      "\n",
      "    accuracy                           0.85      2000\n",
      "   macro avg       0.78      0.67      0.70      2000\n",
      "weighted avg       0.83      0.85      0.83      2000\n",
      "\n"
     ]
    }
   ],
   "source": [
    "print(classification_report(y_test,pred))"
   ]
  },
  {
   "cell_type": "code",
   "execution_count": 29,
   "id": "721282bc",
   "metadata": {
    "_kg_hide-input": true,
    "execution": {
     "iopub.execute_input": "2022-02-11T08:15:43.281361Z",
     "iopub.status.busy": "2022-02-11T08:15:43.280746Z",
     "iopub.status.idle": "2022-02-11T08:15:43.460328Z",
     "shell.execute_reply": "2022-02-11T08:15:43.460734Z",
     "shell.execute_reply.started": "2022-02-11T07:33:37.782974Z"
    },
    "papermill": {
     "duration": 0.279369,
     "end_time": "2022-02-11T08:15:43.460902",
     "exception": false,
     "start_time": "2022-02-11T08:15:43.181533",
     "status": "completed"
    },
    "tags": []
   },
   "outputs": [
    {
     "name": "stdout",
     "output_type": "stream",
     "text": [
      "ROC_AUC:  0.6701923589279053\n"
     ]
    },
    {
     "data": {
      "image/png": "[encoded data removed]",
      "text/plain": [
       "<Figure size 432x288 with 1 Axes>"
      ]
     },
     "metadata": {
      "needs_background": "light"
     },
     "output_type": "display_data"
    }
   ],
   "source": [
    "roc_auc = roc_auc_score(y_test, pred)\n",
    "print('ROC_AUC: ', roc_auc)\n",
    "\n",
    "fpr, tpr, thresholds = roc_curve(y_test, pred)\n",
    "\n",
    "plt.plot(fpr, tpr, label = 'ROC_AUC = %0.3f' % roc_auc)\n",
    "\n",
    "plt.xlabel(\"False Positive Rate\", fontsize= 12)\n",
    "plt.ylabel(\"True Positive Rate\", fontsize= 12)\n",
    "plt.legend(loc=\"lower right\")\n",
    "\n",
    "plt.show()"
   ]
  },
  {
   "cell_type": "code",
   "execution_count": null,
   "id": "9d32539b",
   "metadata": {
    "papermill": {
     "duration": 0.098042,
     "end_time": "2022-02-11T08:15:43.656014",
     "exception": false,
     "start_time": "2022-02-11T08:15:43.557972",
     "status": "completed"
    },
    "tags": []
   },
   "outputs": [],
   "source": []
  }
 ],
 "metadata": {
  "kernelspec": {
   "display_name": "Python 3",
   "language": "python",
   "name": "python3"
  },
  "language_info": {
   "codemirror_mode": {
    "name": "ipython",
    "version": 3
   },
   "file_extension": ".py",
   "mimetype": "text/x-python",
   "name": "python",
   "nbconvert_exporter": "python",
   "pygments_lexer": "ipython3",
   "version": "3.7.12"
  },
  "papermill": {
   "default_parameters": {},
   "duration": 33.423218,
   "end_time": "2022-02-11T08:15:46.608319",
   "environment_variables": {},
   "exception": null,
   "input_path": "__notebook__.ipynb",
   "output_path": "__notebook__.ipynb",
   "parameters": {},
   "start_time": "2022-02-11T08:15:13.185101",
   "version": "2.3.3"
  }
 },
 "nbformat": 4,
 "nbformat_minor": 5
}
